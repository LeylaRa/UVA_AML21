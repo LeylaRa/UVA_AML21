{
 "cells": [
  {
   "cell_type": "markdown",
   "metadata": {},
   "source": [
    "# Before you start\n",
    "\n",
    "1. Please copy the code from the previous assignment (week 2) into a separate file `blocks.py`. Make sure it resides in the same folder as this notebook. It should contain the implementation of the building blocks. \n",
    "2. Downlod the files from [here](http://yann.lecun.com/exdb/mnist/) and place them next to this notebook. You should have 4 files: `t10k-images-idx3-ubyte\n",
    "3. All functions should be implemented using [**NumPy**](https://docs.scipy.org/doc/)."
   ]
  },
  {
   "cell_type": "markdown",
   "metadata": {},
   "source": [
    "The goal of this assignment is to supply you with the **building blocks** of **neural networks** (NNs). In this notebook, we will cover the main aspects of NNs, such as **Backpropagation** and **Optimization Methods**. \n",
    "You will understand how **Convolutional Neural Networks** and the basics of **image filtering** work. We will implement matrix convolution as well as the convolutional layer from scratch.\n",
    "\n",
    "\n",
    "### Note\n",
    "Some of the concepts below have not (yet) been discussed during the lecture. These will be discussed further during the next lectures. "
   ]
  },
  {
   "cell_type": "markdown",
   "metadata": {},
   "source": [
    "# Table of contents\n",
    "\n",
    "* [1. Fully-Connected Neural Networks](#1.-Fully-Connected-Neural-Networks)\n",
    "    * [1.1 Backpropagation](#1.1-Backpropagation)\n",
    "    * [1.2 Dense layer](#1.2-Dense-layer)\n",
    "    * [1.3 ReLU nonlinearity](#1.3-ReLU-nonlinearity)\n",
    "    * [1.4 Sigmoid nonlinearity](#1.4-Sigmoid-nonlinearity)\n",
    "    * [1.5 Sequential model](#1.5-Sequential-model)\n",
    "    * [1.6 NLL loss function](#1.6-NLL-loss-function)\n",
    "    * [1.7 $L_2$ regularization](#1.7-$L_2$-regularization)\n",
    "    * [1.8 SGD optimizer](#1.8-SGD-optimizer)\n",
    "* [2. Experiments](#2.-Experiments)\n",
    "* [3. Convolutions](#3.-Convolutions)\n",
    "    * [3.1 Matrix convolution](#3.1-Matrix-convolution)\n",
    "    * [3.2 Basic kernels](#3.2-Matrix-convolution)\n",
    "    * [3.3 Convolutional layer](#3.3-Convolutional-layer)\n",
    "    * [3.4 Pooling layer](#3.4-Pooling-layer)\n",
    "    * [3.5 Flatten](#3.5-Flatten)\n",
    "* [4. Image Experiments](#4.-Image-Experiments)"
   ]
  },
  {
   "cell_type": "code",
   "execution_count": 198,
   "metadata": {
    "scrolled": false
   },
   "outputs": [
    {
     "name": "stdout",
     "output_type": "stream",
     "text": [
      "---------------------------------------------\n",
      "| Leyla Rahimi                              |\n",
      "| leyla.rahimi@student.uva.nl               |\n",
      "---------------------------------------------\n",
      "| box_blur                 | completed      |\n",
      "| conv_matrix              | completed      |\n",
      "| dense_forward            | completed      |\n",
      "| dense_grad_W             | completed      |\n",
      "| dense_grad_b             | completed      |\n",
      "| dense_grad_input         | completed      |\n",
      "| flatten_forward          | completed      |\n",
      "| flatten_grad_input       | completed      |\n",
      "| l2_regularizer           | completed      |\n",
      "| linear_forward           | completed      |\n",
      "| linear_grad_W            | completed      |\n",
      "| linear_grad_b            | completed      |\n",
      "| maxpool_forward          | completed      |\n",
      "| nll_forward              | completed      |\n",
      "| nll_grad_input           | completed      |\n",
      "| relu_forward             | completed      |\n",
      "| relu_grad_input          | completed      |\n",
      "| sigmoid_forward          | completed      |\n",
      "| sigmoid_grad_input       | completed      |\n",
      "| tree_gini_index          | completed      |\n",
      "| tree_split_data_left     | completed      |\n",
      "| tree_split_data_right    | completed      |\n",
      "| tree_to_terminal         | completed      |\n",
      "---------------------------------------------\n"
     ]
    }
   ],
   "source": [
    "from __future__ import print_function, absolute_import, division \n",
    "import numpy as np\n",
    "import matplotlib.pyplot as plt\n",
    "%matplotlib inline\n",
    "\n",
    "import blocks\n",
    "\n",
    "import automark as am\n",
    "\n",
    "# fill in you student number as your username\n",
    "username = '13648063'\n",
    "\n",
    "# to check your progress, you can run this function\n",
    "am.get_progress(username)"
   ]
  },
  {
   "cell_type": "markdown",
   "metadata": {},
   "source": [
    "# 1. Fully-Connected Neural Networks"
   ]
  },
  {
   "cell_type": "markdown",
   "metadata": {},
   "source": [
    "## 1.1 Backpropagation\n",
    "\n",
    "Neural networks consist of several layers. Each layer is a function of several parameters that we call weights: $h = f(x, w)$ where $h$ is the layer, $x$ is a vector of inputs and w is a vector of weights. \n",
    "In the neural network, the output of one layer is the input for the next layer. This means we can chain the different functions. The whole neural network $F$ then becomes a composition of different functions. \n",
    "$$\n",
    "F = f_k \\circ f_{k-1} \\circ \\dots \\ f_1\\\\\n",
    "h_1 = f_1(x, w_1)\\\\\n",
    "h_2 = f_2(h_1, w_2)\\\\\n",
    "\\dots \\\\\n",
    "\\dot{y} = f_k(h_{k-1}, w_k)\n",
    "$$\n",
    "In the above functions, $w_1$ and $w_2$ are different **weight vectors** that apply to the different layers $h_1$ and $h_2$. The weights of a neural network basically determine the effect certain outputs have on the next layer. (Please note: When searching for these terms on the internet, be aware that **weights** are sometimes called **parameters**, and $w$ is sometimes denoted as $\\theta$.) \n",
    "\n",
    "\n",
    "At the end of every neural network, there is a loss function. A loss function calculates for the performance of the Neural Network. The calculation of this score depends on the task at hand. For classification tasks the loss function would calculate the difference between prediction and the correct value. In this case the function is a summation of this difference for each data point. Calculating this difference can, again, be done in different ways. One example that we have discussed in class is the squared-loss for linear regression. (Here, the difference between predicted and correct classification is squared so positive and negative differences don't cancel eachother.) \n",
    "$$\\mathcal{L} = \\tfrac{1}{2}\\sum_{n = 1}^N (y_n - \\dot{y}_n)^2$$\n",
    "Here, $n$ denotes the different datapoints, $y_n$ and $\\dot{y}$ represent the correct and the predicted value for that data point respectively. \n",
    "\n",
    "\n",
    "\n",
    "The smaller the outcome of this loss function, the better the Neural Network predicts the data. Therefore, we concentrate on **minimizing the loss function** as a means for **training** the neural network. \n",
    "\n",
    "\n",
    "Training is done with [Gradient descent](https://en.wikipedia.org/wiki/Gradient_descent). Another word for **gradient** is **derivative**. We use derivatives to update the weights of the neural network to make better predictions. \n",
    "The weights of the $k$-th layer are updated according to the following scheme:\n",
    "$$\n",
    "w_k \\leftarrow w_k - \\gamma \\frac{\\partial \\mathcal{L}}{\\partial w_k} \n",
    "$$\n",
    "* $\\partial f(x)/\\partial x$ means the partial derivative of $f(x)$ with respect to $x$. \n",
    "* Hyperparameter $\\gamma$ is called the *learning rate* (You'll learn more about hyperparameters later. For now, the only thing you'll have to know is that the value of a hyperparameter is set by you.) \n",
    "* Note that $k$ denotes a layer and $n$ denotes a data point.\n",
    "\n",
    "\n",
    "The computation of $\\partial \\mathcal{L}/\\partial w_k$ is done using the [chain rule](https://en.wikipedia.org/wiki/Chain_rule):\n",
    "$$\n",
    "\\frac{\\partial \\mathcal{L}}{\\partial w_k} = \n",
    "\\frac{\\partial \\mathcal{L}}{\\partial h_k}\n",
    "\\frac{\\partial h_k}{\\partial w_k} = \n",
    "\\frac{\\partial \\mathcal{L}}{\\partial h_{k+1}}\n",
    "\\frac{\\partial h_{k+1}}{\\partial h_k}\n",
    "\\frac{\\partial h_k}{\\partial w_k} = \\dots\n",
    "$$\n",
    "\n",
    "\n",
    "Therefore, for each layer, we can calculate the following expressions: \n",
    "* $h_k = f_k(h_{k-1}, w_k)$ - the forward pass\n",
    "* $\\partial h_{k}/\\partial h_{k-1}$ - the partial derivative of the output with respect to the input\n",
    "* $\\partial h_{k}/\\partial w_k$ - the partial derivative of the output with respect to the parameters\n",
    "\n",
    "\n",
    "This whole process of updating weights by calculating the gradient is called [Backpropagation](https://www.iro.umontreal.ca/~vincentp/ift3395/lectures/backprop_old.pdf). Click [here](https://www.youtube.com/watch?v=Ilg3gGewQ5U) for a pretty good video explaining backpropagation. "
   ]
  },
  {
   "cell_type": "markdown",
   "metadata": {},
   "source": [
    "## 1.2 Dense layer\n",
    "A dense Layer is the basic layer of a neural network. (Other terms for dense layer are fully-connected layer and multiplicative layer.) A dense layer transforms an input matrix of size `(n_objects, d_in)` to a matrix of size `(n_objects, d_out)` (where d stands for dimensions) by performing the following operation:\n",
    "$$\n",
    "H = XW + b\n",
    "$$\n",
    "Here $H$ represents the function of the dense layer, $X$ is the input matrix, $W$ is the weight matrix for this layer and $b$ is the bias. The bias $b$ is a vector. \n",
    "\n",
    "A more detailed version of this function is: \n",
    "$$\n",
    "H_{nk} = \\sum\\limits_{i=1}^{d_{in}} X_{ni}W_{ik} + b_k\n",
    "$$\n",
    "where $n$ denotes again a single data object and $k$ the $k^{th}$ layer.\n",
    "\n",
    "**Example**: \n",
    "\n",
    "You have a neural network of just 1 layer. The inputs are points in a 3D space and you want to classify this point as either $-1$ or $1$. \n",
    "You have $75$ objects in your training set. \n",
    "\n",
    "Therefore, $X$ has shape $75 \\times 3$. $H$ has shape $75 \\times 1$. Weight $W$ of the layer has shape $3 \\times 1$.\n",
    "\n",
    "**NOTE: \"Dense Layer\" is linear. So its mapping is exactly the same as of \"Linear\" function from the previous week but `n_out` is not restricted to 1. We use name \"Dense\" in order to distinquish between these two functions**"
   ]
  },
  {
   "cell_type": "code",
   "execution_count": 2,
   "metadata": {},
   "outputs": [],
   "source": [
    "def dense_forward(x_input, W, b):\n",
    "    \"\"\"Perform the mapping of the input\n",
    "    # Arguments\n",
    "        x_input: input of a dense layer - np.array of size `(n_objects, n_in)`\n",
    "        W: np.array of size `(n_in, n_out)`\n",
    "        b: np.array of size `(n_out,)`\n",
    "    # Output\n",
    "        the output of a dense layer \n",
    "        np.array of size `(n_objects, n_out)`\n",
    "    \"\"\"\n",
    "    #################\n",
    "    output = x_input @ W +b\n",
    "    #################\n",
    "    return output"
   ]
  },
  {
   "cell_type": "code",
   "execution_count": 4,
   "metadata": {},
   "outputs": [
    {
     "name": "stdout",
     "output_type": "stream",
     "text": [
      "Current version of local tests is deprecated. Outdated tests are removed.\n",
      "Downloading local tests...\n",
      "Local tests are downloaded.\n",
      "Running local tests...\n",
      "dense_forward successfully passed local tests\n",
      "Running remote test...\n",
      "Test was successful. Congratulations!\n"
     ]
    }
   ],
   "source": [
    "am.test_student_function(username, dense_forward, ['x_input', 'W', 'b'])"
   ]
  },
  {
   "cell_type": "markdown",
   "metadata": {},
   "source": [
    "Now, you'll implement a backward pass. As decribed above, this is calculated with the gradient. To calculate the gradient, we'll use the chain rule: \n",
    "$$\n",
    "\\frac{\\partial \\mathcal{L}}{\\partial X} = \n",
    "\\frac{\\partial \\mathcal{L}}{\\partial H}\n",
    "\\frac{\\partial H}{\\partial X}\n",
    "$$"
   ]
  },
  {
   "cell_type": "code",
   "execution_count": 3,
   "metadata": {},
   "outputs": [],
   "source": [
    "def dense_grad_input(x_input, grad_output, W, b):\n",
    "    \"\"\"Calculate the partial derivative of \n",
    "        the loss with respect to the input of the layer\n",
    "    # Arguments\n",
    "        x_input: input of a dense layer - np.array of size `(n_objects, n_in)`\n",
    "        grad_output: partial derivative of the loss functions with \n",
    "            respect to the ouput of the dense layer \n",
    "            np.array of size `(n_objects, n_out)`\n",
    "        W: np.array of size `(n_in, n_out)`\n",
    "        b: np.array of size `(n_out,)`\n",
    "    # Output\n",
    "        the partial derivative of the loss with \n",
    "        respect to the input of the layer\n",
    "        np.array of size `(n_objects, n_in)`\n",
    "    \"\"\"\n",
    "    #################\n",
    "    grad_input = grad_output @ W.T\n",
    "    #################\n",
    "    return grad_input"
   ]
  },
  {
   "cell_type": "code",
   "execution_count": 8,
   "metadata": {},
   "outputs": [
    {
     "name": "stdout",
     "output_type": "stream",
     "text": [
      "Running local tests...\n",
      "dense_grad_input successfully passed local tests\n",
      "Running remote test...\n",
      "Test was successful. Congratulations!\n"
     ]
    }
   ],
   "source": [
    "am.test_student_function(username, dense_grad_input, ['x_input', 'grad_output', 'W', 'b'])"
   ]
  },
  {
   "cell_type": "markdown",
   "metadata": {},
   "source": [
    "Now, instead of computing the gradient with respect to the input, we'll calculate the gradient with respect to the weights and to the bias: \n",
    "$$\n",
    "\\frac{\\partial \\mathcal{L}}{\\partial W} = \n",
    "\\frac{\\partial \\mathcal{L}}{\\partial H}\n",
    "\\frac{\\partial H}{\\partial W} \\\\\n",
    "\\frac{\\partial \\mathcal{L}}{\\partial b} = \n",
    "\\frac{\\partial \\mathcal{L}}{\\partial H}\n",
    "\\frac{\\partial H}{\\partial b} \\\\\n",
    "$$"
   ]
  },
  {
   "cell_type": "code",
   "execution_count": 4,
   "metadata": {},
   "outputs": [],
   "source": [
    "def dense_grad_W(x_input, grad_output, W, b):\n",
    "    \"\"\"Calculate the partial derivative of \n",
    "        the loss with respect to W parameter of the layer\n",
    "    # Arguments\n",
    "        x_input: input of a dense layer - np.array of size `(n_objects, n_in)`\n",
    "        grad_output: partial derivative of the loss functions with \n",
    "            respect to the ouput of the dense layer \n",
    "            np.array of size `(n_objects, n_out)`\n",
    "        W: np.array of size `(n_in, n_out)`\n",
    "        b: np.array of size `(n_out,)`\n",
    "    # Output\n",
    "        the partial derivative of the loss \n",
    "        with respect to W parameter of the layer\n",
    "        np.array of size `(n_in, n_out)`\n",
    "    \"\"\"\n",
    "    #################\n",
    "    grad_W = x_input.T @ grad_output\n",
    "    #################\n",
    "    return grad_W"
   ]
  },
  {
   "cell_type": "code",
   "execution_count": 10,
   "metadata": {},
   "outputs": [
    {
     "name": "stdout",
     "output_type": "stream",
     "text": [
      "Running local tests...\n",
      "dense_grad_W successfully passed local tests\n",
      "Running remote test...\n",
      "Test was successful. Congratulations!\n"
     ]
    }
   ],
   "source": [
    "am.test_student_function(username, dense_grad_W, ['x_input', 'grad_output', 'W', 'b'])"
   ]
  },
  {
   "cell_type": "code",
   "execution_count": 5,
   "metadata": {},
   "outputs": [],
   "source": [
    "def dense_grad_b(x_input, grad_output, W, b):\n",
    "    \"\"\"Calculate the partial derivative of \n",
    "        the loss with respect to b parameter of the layer\n",
    "    # Arguments\n",
    "        x_input: input of a dense layer - np.array of size `(n_objects, n_in)`\n",
    "        grad_output: partial derivative of the loss functions with \n",
    "            respect to the ouput of the dense layer \n",
    "            np.array of size `(n_objects, n_out)`\n",
    "        W: np.array of size `(n_in, n_out)`\n",
    "        b: np.array of size `(n_out,)`\n",
    "    # Output\n",
    "        the partial derivative of the loss \n",
    "        with respect to b parameter of the layer\n",
    "        np.array of size `(n_out,)`\n",
    "    \"\"\"\n",
    "    #################\n",
    "    \n",
    "    grad_b = sum(grad_output)\n",
    "    \n",
    "    #grad_b = grad_output.T @ np.ones((np.shape(x_input)[0],))\n",
    "    #################\n",
    "    return grad_b"
   ]
  },
  {
   "cell_type": "code",
   "execution_count": 21,
   "metadata": {},
   "outputs": [
    {
     "name": "stdout",
     "output_type": "stream",
     "text": [
      "Running local tests...\n",
      "dense_grad_b successfully passed local tests\n",
      "Running remote test...\n",
      "Test was successful. Congratulations!\n"
     ]
    }
   ],
   "source": [
    "am.test_student_function(username, dense_grad_b, ['x_input', 'grad_output', 'W', 'b'])"
   ]
  },
  {
   "cell_type": "code",
   "execution_count": 22,
   "metadata": {},
   "outputs": [
    {
     "name": "stdout",
     "output_type": "stream",
     "text": [
      "---------------------------------------------\n",
      "| Leyla Rahimi                              |\n",
      "| leyla.rahimi@student.uva.nl               |\n",
      "---------------------------------------------\n",
      "| box_blur                 | not attempted  |\n",
      "| conv_matrix              | not attempted  |\n",
      "| dense_forward            | completed      |\n",
      "| dense_grad_W             | completed      |\n",
      "| dense_grad_b             | completed      |\n",
      "| dense_grad_input         | completed      |\n",
      "| flatten_forward          | not attempted  |\n",
      "| flatten_grad_input       | not attempted  |\n",
      "| l2_regularizer           | not attempted  |\n",
      "| linear_forward           | completed      |\n",
      "| linear_grad_W            | completed      |\n",
      "| linear_grad_b            | completed      |\n",
      "| maxpool_forward          | not attempted  |\n",
      "| nll_forward              | completed      |\n",
      "| nll_grad_input           | completed      |\n",
      "| relu_forward             | not attempted  |\n",
      "| relu_grad_input          | not attempted  |\n",
      "| sigmoid_forward          | completed      |\n",
      "| sigmoid_grad_input       | completed      |\n",
      "| tree_gini_index          | completed      |\n",
      "| tree_split_data_left     | completed      |\n",
      "| tree_split_data_right    | completed      |\n",
      "| tree_to_terminal         | completed      |\n",
      "---------------------------------------------\n"
     ]
    }
   ],
   "source": [
    "am.get_progress(username)"
   ]
  },
  {
   "cell_type": "markdown",
   "metadata": {},
   "source": [
    "### Dense Layer Class\n",
    "\n",
    "Here, we define a basic class for the dense layer. You will use this in the Experiments sections below. You don't need to know how this works; we implement it for you, but it is based on the functions you've written above. "
   ]
  },
  {
   "cell_type": "code",
   "execution_count": 6,
   "metadata": {},
   "outputs": [],
   "source": [
    "class Layer(object):\n",
    "    \n",
    "    def __init__(self):\n",
    "        self.training_phase = True\n",
    "        self.output = 0.0\n",
    "        \n",
    "    def forward(self, x_input):\n",
    "        self.output = x_input\n",
    "        return self.output\n",
    "    \n",
    "    def backward(self, x_input, grad_output):\n",
    "        return grad_output\n",
    "    \n",
    "    def get_params(self):\n",
    "        return []\n",
    "    \n",
    "    def get_params_gradients(self):\n",
    "        return []"
   ]
  },
  {
   "cell_type": "code",
   "execution_count": 7,
   "metadata": {},
   "outputs": [],
   "source": [
    "class Dense(Layer):\n",
    "    \n",
    "    def __init__(self, n_input, n_output):\n",
    "        super(Dense, self).__init__()\n",
    "        #Randomly initializing the weights from normal distribution\n",
    "        self.W = np.random.normal(scale=0.01, size=(n_input, n_output))\n",
    "        self.grad_W = np.zeros_like(self.W)\n",
    "        #initializing the bias with zero\n",
    "        self.b = np.zeros(n_output)\n",
    "        self.grad_b = np.zeros_like(self.b)\n",
    "      \n",
    "    def forward(self, x_input):\n",
    "        self.output = dense_forward(x_input, self.W, self.b)\n",
    "        return self.output\n",
    "    \n",
    "    def backward(self, x_input, grad_output):\n",
    "        # get gradients of weights\n",
    "        self.grad_W = dense_grad_W(x_input, grad_output, self.W, self.b)\n",
    "        self.grad_b = dense_grad_b(x_input, grad_output, self.W, self.b)\n",
    "        # propagate the gradient backwards\n",
    "        return dense_grad_input(x_input, grad_output, self.W, self.b)\n",
    "    \n",
    "    def get_params(self):\n",
    "        return [self.W, self.b]\n",
    "\n",
    "    def get_params_gradients(self):\n",
    "        return [self.grad_W, self.grad_b]"
   ]
  },
  {
   "cell_type": "code",
   "execution_count": 8,
   "metadata": {},
   "outputs": [
    {
     "name": "stdout",
     "output_type": "stream",
     "text": [
      "[[0.79993201 0.98788691]\n",
      " [0.54700077 0.60083283]\n",
      " [0.18614902 0.50980516]]\n",
      "[[-0.00044114]\n",
      " [-0.0001236 ]\n",
      " [-0.00076992]]\n"
     ]
    }
   ],
   "source": [
    "dense_layer = Dense(2, 1)\n",
    "x_input = np.random.random((3, 2))\n",
    "y_output = dense_layer.forward(x_input)\n",
    "print(x_input)\n",
    "print(y_output)"
   ]
  },
  {
   "cell_type": "markdown",
   "metadata": {},
   "source": [
    "## 1.3 ReLU nonlinearity\n",
    "\n",
    "The dense layer, from previous section, is linear. Combinging several linear (dense) layers is always equivalent to a single dense layer. Here is the mathematically proof for this: \n",
    "$$\n",
    "H_1 = XW_1 + b_1\\\\\n",
    "H_2 = H_1W_2 + b_2\\\\\n",
    "H_2 = (XW_1 + b_1)W_2 + b_2 = X(W_1W_2) + (b_1W_2 + b_2) = XW^* + b^*\n",
    "$$\n",
    "\n",
    "\n",
    "For this reason, we also need non-linear layers. Non-linear layers ($f$ in the following) are mostly element-wise and hold the following:\n",
    "$$\n",
    "H_1 = XW_1 + b_1\\\\\n",
    "H_2 = f(H_1)W_2 + b_2\\\\\n",
    "H_2 = f(XW_1 + b_1)W_2 + b_2 \\neq XW^* + b^*\n",
    "$$\n",
    "\n",
    "A popular example of a simple non-linear layer is **ReLU** (Rectified Linear Unit). ReLU doesn't have weights that can be optimized like a dense layer.\n",
    "$$\n",
    "\\text{ReLU}(x) = \\max(0, x)\n",
    "$$\n",
    "\n",
    "<img src=\"./src/relu.png\" width=\"500\">\n",
    "\n",
    "**Example**\n",
    "\n",
    "$$\n",
    "\\text{ReLU} \\Big(\n",
    "\\begin{bmatrix}\n",
    "1 & -0.5 \\\\\n",
    "0.3 & 0.1 \n",
    "\\end{bmatrix}\n",
    "\\Big) = \n",
    "\\begin{bmatrix}\n",
    "1 & 0 \\\\\n",
    "0.3 & 0.1 \n",
    "\\end{bmatrix}\n",
    "$$\n",
    "\n",
    "Next, you will implement the forward pass and backward pass (gradient) for ReLU. "
   ]
  },
  {
   "cell_type": "code",
   "execution_count": 9,
   "metadata": {},
   "outputs": [],
   "source": [
    "def relu_forward(x_input):\n",
    "    \"\"\"relu nonlinearity\n",
    "    # Arguments\n",
    "        x_input: np.array of size `(n_objects, n_in)`\n",
    "    # Output\n",
    "        the output of relu layer\n",
    "        np.array of size `(n_objects, n_in)`\n",
    "    \"\"\"\n",
    "    #################\n",
    "    output = np.maximum(0, x_input)\n",
    "    #################\n",
    "    return output"
   ]
  },
  {
   "cell_type": "code",
   "execution_count": 10,
   "metadata": {},
   "outputs": [
    {
     "name": "stdout",
     "output_type": "stream",
     "text": [
      "[[1.  0. ]\n",
      " [0.3 0.1]]\n"
     ]
    }
   ],
   "source": [
    "#test forward pass for ReLU, see example above\n",
    "x_input = np.array([[1, -0.5],\n",
    "                    [0.3, 0.1]])\n",
    "\n",
    "print(relu_forward(x_input))"
   ]
  },
  {
   "cell_type": "code",
   "execution_count": 25,
   "metadata": {},
   "outputs": [
    {
     "name": "stdout",
     "output_type": "stream",
     "text": [
      "Running local tests...\n",
      "relu_forward successfully passed local tests\n",
      "Running remote test...\n",
      "Test was successful. Congratulations!\n"
     ]
    }
   ],
   "source": [
    "am.test_student_function(username, relu_forward, ['x_input'])"
   ]
  },
  {
   "cell_type": "code",
   "execution_count": 11,
   "metadata": {},
   "outputs": [],
   "source": [
    "def relu_grad_input(x_input, grad_output):\n",
    "    \"\"\"relu nonlinearity gradient. \n",
    "        Calculate the partial derivative of the loss \n",
    "        with respect to the input of the layer\n",
    "    # Arguments\n",
    "        x_input: np.array of size `(n_objects, n_in)`\n",
    "            grad_output: np.array of size `(n_objects, n_in)`\n",
    "    # Output\n",
    "        the partial derivative of the loss \n",
    "        with respect to the input of the layer\n",
    "        np.array of size `(n_objects, n_in)`\n",
    "    \"\"\"\n",
    "    #################\n",
    "    \n",
    "    grad_input = grad_output *(x_input >0)\n",
    "    \n",
    "    #################\n",
    "    return grad_input"
   ]
  },
  {
   "cell_type": "code",
   "execution_count": 39,
   "metadata": {},
   "outputs": [
    {
     "name": "stdout",
     "output_type": "stream",
     "text": [
      "Running local tests...\n",
      "relu_grad_input successfully passed local tests\n",
      "Running remote test...\n",
      "Test was successful. Congratulations!\n"
     ]
    }
   ],
   "source": [
    "am.test_student_function(username, relu_grad_input, ['x_input', 'grad_output'])"
   ]
  },
  {
   "cell_type": "code",
   "execution_count": 12,
   "metadata": {},
   "outputs": [],
   "source": [
    "class ReLU(Layer):\n",
    "        \n",
    "    def forward(self, x_input):\n",
    "        self.output = relu_forward(x_input)\n",
    "        return self.output\n",
    "    \n",
    "    def backward(self, x_input, grad_output):\n",
    "        return relu_grad_input(x_input, grad_output)"
   ]
  },
  {
   "cell_type": "markdown",
   "metadata": {},
   "source": [
    "## 1.4 Sigmoid nonlinearity"
   ]
  },
  {
   "cell_type": "code",
   "execution_count": 13,
   "metadata": {},
   "outputs": [],
   "source": [
    "class Sigmoid(Layer):\n",
    "        \n",
    "    def forward(self, x_input):\n",
    "        self.output = blocks.sigmoid_forward(x_input)\n",
    "        return self.output\n",
    "    \n",
    "    def backward(self, x_input, grad_output):\n",
    "        return blocks.sigmoid_grad_input(x_input, grad_output)"
   ]
  },
  {
   "cell_type": "markdown",
   "metadata": {},
   "source": [
    "## 1.5 Sequential model\n",
    "In order to make the work with layers more comfortable, we create `SequentialNN` - a class, which stores all its layers and performs the basic manipulations. Again, this is for the experiments below and you don't need to know how this works. "
   ]
  },
  {
   "cell_type": "code",
   "execution_count": 14,
   "metadata": {},
   "outputs": [],
   "source": [
    "class SequentialNN(object):\n",
    "\n",
    "    def __init__(self, *layers):\n",
    "        self.layers = layers\n",
    "        self.training_phase = True\n",
    "        \n",
    "    def set_training_phase(self, is_training=True):\n",
    "        self.training_phase = is_training\n",
    "        for layer in self.layers:\n",
    "            layer.training_phase = is_training\n",
    "        \n",
    "    def forward(self, x_input):\n",
    "        self.output = x_input\n",
    "        for layer in self.layers:\n",
    "            self.output = layer.forward(self.output)\n",
    "        return self.output\n",
    "    \n",
    "    def backward(self, x_input, grad_output):\n",
    "        inputs = [x_input] + [l.output for l in self.layers[:-1]]\n",
    "        for input_, layer_ in zip(inputs[::-1], self.layers[::-1]):\n",
    "            grad_output = layer_.backward(input_, grad_output)\n",
    "            \n",
    "    def get_params(self):\n",
    "        params = []\n",
    "        for layer in self.layers:\n",
    "            params.extend(layer.get_params())\n",
    "        return params\n",
    "    \n",
    "    def get_params_gradients(self):\n",
    "        grads = []\n",
    "        for layer in self.layers:\n",
    "            grads.extend(layer.get_params_gradients())\n",
    "        return grads"
   ]
  },
  {
   "cell_type": "markdown",
   "metadata": {},
   "source": [
    "Here is the simple neural network. It takes an input of shape `(Any, 10)` and passes it through `Dense(10, 4)`, `ReLU` and `Dense(4, 1)`. The output is a batch of size `(Any, 1)`. \n",
    "```\n",
    "  INPUT\n",
    "    |\n",
    "Dense(10, 4)\n",
    "    |\n",
    "   ReLU\n",
    "    |\n",
    "Dense(4, 1)\n",
    "    |\n",
    "  OUTPUT\n",
    "```"
   ]
  },
  {
   "cell_type": "code",
   "execution_count": 15,
   "metadata": {},
   "outputs": [],
   "source": [
    "nn = SequentialNN(\n",
    "    Dense(10, 4), \n",
    "    ReLU(),\n",
    "    Dense(4, 1),\n",
    "    Sigmoid()\n",
    ")"
   ]
  },
  {
   "cell_type": "code",
   "execution_count": 16,
   "metadata": {},
   "outputs": [
    {
     "data": {
      "text/plain": [
       "array([[0.499998],\n",
       "       [0.499998]])"
      ]
     },
     "execution_count": 16,
     "metadata": {},
     "output_type": "execute_result"
    }
   ],
   "source": [
    "nn.forward(np.ones([2, 10]))"
   ]
  },
  {
   "cell_type": "markdown",
   "metadata": {},
   "source": [
    "## 1.6 NLL loss function\n",
    "Here we will define the loss functions. Each loss should be able to compute its value and compute its gradient with respect to the input. We have implemented these functions (e.g. forward, backward) for you.  "
   ]
  },
  {
   "cell_type": "code",
   "execution_count": 17,
   "metadata": {},
   "outputs": [],
   "source": [
    "class NLL(object):\n",
    "    \n",
    "    def forward(self, target_pred, target_true):\n",
    "        self.output = blocks.nll_forward(target_pred, target_true)\n",
    "        return self.output\n",
    "    \n",
    "    def backward(self, target_pred, target_true):\n",
    "        return blocks.nll_grad_input(target_pred, target_true)"
   ]
  },
  {
   "cell_type": "markdown",
   "metadata": {},
   "source": [
    "## 1.7 $L_2$ regularization\n",
    "\n",
    "Loss functions update the weights of your model to improve your predictions. We do this by minimizing the loss function. However, up until now this loss function did not take into account the complexity of your model. Here we mean with complexity the number of parameters that your model stores. We do want to take complexity into account because complex models can perform poorly on test data, while performing excellent on train data. \n",
    "\n",
    "To penalize the complextity of the model, we introduce a regularizer. You'll learn more about regularizers in the lectures, but the general idea is that we take the values of the weights into account with the loss function. High values for weights are indicators of complexity. \n",
    "\n",
    "There are several ways of adding regularization to a model. We will implement [$L_2$ regularization](http://www.deeplearningbook.org/contents/regularization.html) also known as weight decay:\n",
    "\n",
    "The key idea of $L_2$ regularization is to add an extra term to the loss functions:\n",
    "$$\n",
    "\\mathcal{L}^* = \\mathcal{L} + \\frac{\\lambda}{2} \\|w\\|^2_2\n",
    "$$\n",
    "\n",
    "The part we added to the loss function is called the regularization function. \n",
    "* $\\lambda$ is named weight decay. It is a hyperparameter that determines the influence of the regularization to the outcome of the loss function. \n",
    "* $\\|w\\|^2_2$ is the squared [euclidian norm](https://en.wikipedia.org/wiki/Euclidean_distance) where $\\|w\\|^2_2 = \\|w_1\\|^2_2 + \\|w_2\\|^2_2 ... \\|w_k\\|^2_2$. \n",
    "This function in more detail becomes:\n",
    "\n",
    "$$\n",
    "\\mathcal{L}^* = \\mathcal{L} + \\frac{\\lambda}{2} \\sum\\limits_{m=1}^k \\|w_m\\|^2_2\n",
    "$$\n",
    "\n",
    "Because we use a different loss function, the updating of the weights is also slightly changed: \n",
    "\n",
    "$$\n",
    "w_m \\leftarrow w_m - \\gamma \\frac{\\partial \\mathcal{L}^*}{\\partial w_m}\\\\\n",
    "\\frac{\\partial \\mathcal{L}^*}{\\partial w_m} = \\frac{\\partial \\mathcal{L}}{\\partial w_m} + \\lambda w_m\\\\\n",
    "w_m \\leftarrow w_m - \\gamma \\Big(\\frac{\\partial \\mathcal{L}}{\\partial w_m} + \\lambda w_m\\Big)\n",
    "$$\n",
    "\n",
    "Here, you'll implement the computation of $L_2$: \n",
    "$$\n",
    "L_2(\\lambda, [w_1, w_2, \\dots, w_k]) = \\frac{\\lambda}{2} \\sum\\limits_{m=1}^k \\|w_m\\|^2_2\n",
    "$$ "
   ]
  },
  {
   "cell_type": "code",
   "execution_count": 18,
   "metadata": {},
   "outputs": [],
   "source": [
    "def l2_regularizer(weight_decay, weights):\n",
    "    \"\"\"Compute the L2 regularization term\n",
    "    # Arguments\n",
    "        weight_decay: float\n",
    "        weights: list of arrays of different shapes\n",
    "    # Output\n",
    "        sum of the L2 norms of the input weights\n",
    "        scalar\n",
    "    \"\"\"\n",
    "    \n",
    "    #################\n",
    "    output= weight_decay/2 * np.sum([np.sum(w**2) for w in weights])\n",
    "    #################\n",
    "    return output"
   ]
  },
  {
   "cell_type": "markdown",
   "metadata": {},
   "source": [
    "You can test your forward pass below. Your output should be: `108.25`"
   ]
  },
  {
   "cell_type": "code",
   "execution_count": 19,
   "metadata": {},
   "outputs": [
    {
     "name": "stdout",
     "output_type": "stream",
     "text": [
      "108.25\n"
     ]
    }
   ],
   "source": [
    "#test the L2 regularizer\n",
    "weight_decay = 2\n",
    "weights = np.array([5,3,7,5,0.5])\n",
    "print(l2_regularizer(weight_decay, weights))"
   ]
  },
  {
   "cell_type": "code",
   "execution_count": 59,
   "metadata": {},
   "outputs": [
    {
     "name": "stdout",
     "output_type": "stream",
     "text": [
      "Running local tests...\n",
      "l2_regularizer successfully passed local tests\n",
      "Running remote test...\n",
      "Test was successful. Congratulations!\n"
     ]
    }
   ],
   "source": [
    "am.test_student_function(username, l2_regularizer, ['weight_decay', 'weights'])"
   ]
  },
  {
   "cell_type": "markdown",
   "metadata": {},
   "source": [
    "## 1.8 SGD optimizer"
   ]
  },
  {
   "cell_type": "code",
   "execution_count": 20,
   "metadata": {},
   "outputs": [],
   "source": [
    "class SGD(object):\n",
    "    '''\n",
    "    Stochastic gradient descent optimizer\n",
    "    https://en.wikipedia.org/wiki/Stochastic_gradient_descent\n",
    "    '''\n",
    "    def __init__(self, model, lr=0.01, weight_decay=0.0):\n",
    "        self.model = model\n",
    "        self.lr = lr\n",
    "        self.weight_decay = weight_decay\n",
    "        \n",
    "    def update_params(self):\n",
    "        weights = self.model.get_params()\n",
    "        grads = self.model.get_params_gradients()\n",
    "        for w, dw in zip(weights, grads):\n",
    "            update = self.lr * (dw + self.weight_decay * w)\n",
    "            # it writes the result to the previous variable instead of copying\n",
    "            np.subtract(w, update, out=w) "
   ]
  },
  {
   "cell_type": "markdown",
   "metadata": {},
   "source": [
    "# 2. Experiments"
   ]
  },
  {
   "cell_type": "code",
   "execution_count": 21,
   "metadata": {},
   "outputs": [],
   "source": [
    "# some function from week 2\n",
    "def generate_2_circles(N=100):\n",
    "    phi = np.linspace(0.0, np.pi * 2, 100)\n",
    "    X1 = 1.1 * np.array([np.sin(phi), np.cos(phi)])\n",
    "    X2 = 3.0 * np.array([np.sin(phi), np.cos(phi)])\n",
    "    Y = np.concatenate([np.ones(N), np.zeros(N)]).reshape((-1, 1))\n",
    "    X = np.hstack([X1,X2]).T\n",
    "    return X, Y\n",
    "\n",
    "\n",
    "def split(X, Y, train_ratio=0.7):\n",
    "    size = len(X)\n",
    "    train_size = int(size * train_ratio)\n",
    "    indices = np.arange(size)\n",
    "    np.random.shuffle(indices)\n",
    "    train_indices = indices[:train_size]\n",
    "    test_indices = indices[train_size:]\n",
    "    return X[train_indices], Y[train_indices], X[test_indices], Y[test_indices]\n",
    "\n",
    "\n",
    "def plot_model_prediction(prediction_func, X, Y, hard=True):\n",
    "    u_min = X[:, 0].min() - 1\n",
    "    u_max = X[:, 0].max() + 1\n",
    "    v_min = X[:, 1].min() - 1\n",
    "    v_max = X[:, 1].max() + 1\n",
    "\n",
    "    U, V = np.meshgrid(np.linspace(u_min, u_max, 100), np.linspace(v_min, v_max, 100))\n",
    "    UV = np.stack([U.ravel(), V.ravel()]).T\n",
    "    c = prediction_func(UV).ravel()\n",
    "    if hard:\n",
    "        c = c > 0.5\n",
    "    plt.scatter(UV[:,0], UV[:,1], c=c, edgecolors= 'none', alpha=0.15)\n",
    "    plt.scatter(X[:,0], X[:,1], c=Y.ravel(), edgecolors= 'black')\n",
    "    plt.xlim(left=u_min, right=u_max)\n",
    "    plt.ylim(bottom=v_min, top=v_max)\n",
    "    plt.axes().set_aspect('equal')\n",
    "    plt.show()"
   ]
  },
  {
   "cell_type": "code",
   "execution_count": 22,
   "metadata": {},
   "outputs": [],
   "source": [
    "X_train, Y_train, X_test, Y_test = split(*generate_2_circles(), 0.7)"
   ]
  },
  {
   "cell_type": "code",
   "execution_count": 23,
   "metadata": {},
   "outputs": [
    {
     "name": "stdout",
     "output_type": "stream",
     "text": [
      "Step: 0, \tLoss = 0.69\n",
      "Step: 500, \tLoss = 0.19\n",
      "Step: 1000, \tLoss = 0.04\n",
      "Step: 1500, \tLoss = 0.02\n",
      "Step: 2000, \tLoss = 0.01\n",
      "Step: 2500, \tLoss = 0.01\n",
      "Step: 3000, \tLoss = 0.01\n",
      "Step: 3500, \tLoss = 0.01\n",
      "Step: 4000, \tLoss = 0.01\n",
      "Step: 4500, \tLoss = 0.01\n"
     ]
    }
   ],
   "source": [
    "##Training the network ##\n",
    "###YOUR CODE FOR DESIGNING THE NETWORK ###\n",
    "model = SequentialNN(\n",
    "    # 2 -> 16 -> 1 With ReLU and Sigmoid where it is required\n",
    "    Dense(2, 16), \n",
    "    ReLU(),\n",
    "    Dense(16, 1),\n",
    "    Sigmoid()\n",
    ")\n",
    "\n",
    "\n",
    "loss = NLL()\n",
    "weight_decay = 1e-4\n",
    "sgd = SGD(model, lr=0.1, weight_decay=weight_decay)\n",
    "iters = 5000 # Number of times to iterate over all data objects\n",
    "\n",
    "model.set_training_phase(True)\n",
    "\n",
    "for i in range(iters):\n",
    "    # get the predictions\n",
    "    y_pred = model.forward(X_train)\n",
    "    \n",
    "    # compute the loss value + L_2 term\n",
    "    loss_value = loss.forward(y_pred, Y_train) + l2_regularizer(weight_decay, model.get_params())\n",
    "    \n",
    "    if i % 500 == 0:\n",
    "        # log the current loss value\n",
    "        print('Step: {}, \\tLoss = {:.2f}'.format(i, loss_value))\n",
    "    \n",
    "    # get the gradient of the loss functions\n",
    "    loss_grad = loss.backward(y_pred, Y_train)\n",
    "\n",
    "    # backprop the gradients\n",
    "    model.backward(X_train, loss_grad)\n",
    "    \n",
    "    # perform the updates\n",
    "    sgd.update_params()"
   ]
  },
  {
   "cell_type": "code",
   "execution_count": 24,
   "metadata": {},
   "outputs": [
    {
     "name": "stderr",
     "output_type": "stream",
     "text": [
      "<ipython-input-21-ad0bd6d8f5f7>:36: MatplotlibDeprecationWarning: Adding an axes using the same arguments as a previous axes currently reuses the earlier instance.  In a future version, a new instance will always be created and returned.  Meanwhile, this warning can be suppressed, and the future behavior ensured, by passing a unique label to each axes instance.\n",
      "  plt.axes().set_aspect('equal')\n"
     ]
    },
    {
     "data": {
      "image/png": "[encoded data removed]",
      "text/plain": [
       "<Figure size 432x288 with 1 Axes>"
      ]
     },
     "metadata": {
      "needs_background": "light"
     },
     "output_type": "display_data"
    }
   ],
   "source": [
    "plot_model_prediction(lambda x: model.forward(x), X_test, Y_test)"
   ]
  },
  {
   "cell_type": "markdown",
   "metadata": {},
   "source": [
    "# 3. Convolutions\n",
    "## 3.1 Matrix convolution\n",
    "\n",
    "\n",
    "There is a way to create a **locally connected** layer which will learn local correlations using a smaller amount of parameters.  \n",
    "This layer is aptly called **Convolutional Layer** and is based on **matrix convolution**"
   ]
  },
  {
   "cell_type": "markdown",
   "metadata": {},
   "source": [
    "A picture is worth a thousand words which is especially true when learning about convolution:\n",
    "![Image convolution](./src/conv.png)"
   ]
  },
  {
   "cell_type": "markdown",
   "metadata": {},
   "source": [
    "In image convolution, a **filter**, also called **kernel**, is applied to the source matrix.  \n",
    "Each element from the kernel is multiplied by the corresponding element from the source matrix. The results are summed up and written to the target matrix.\n",
    "\n",
    "In this example, the output matrix has a smaller size than its source\\*. This is because the kernel can not overlap the borders. **Zero padding** can be used to retain the original dimension. It is a simple solution which involves adding a border of zeros to the input.\n",
    "\n",
    "\\* It may seem both matrices have the same size (both are shown with the same number of boxes. In the edges of the right matrix, however, no values are stored. The top-left corner of the right image starts where the $-3$ is placed.\n",
    "\n",
    "The source matrix $X$ is of size $N \\times M$ and the kernel $K$ is of size $(2p+1) \\times (2q +1 )$.  \n",
    "We define $X_{ij} = 0$ for $i > N, i < 1$ and $j > M, j < 1$.  \n",
    "In (other) words: If you try to access a pixel which is out of bounds assume that it is zero.  \n",
    "This is called **zero padding**.\n",
    "\n",
    "Therefore, the convolution of a matrix with a kernel is defined as follows:\n",
    "$$\n",
    "Y = X \\star K \\\\\n",
    "Y_{ij} = \\sum\\limits_{\\alpha=0}^{2p} \\sum\\limits_{\\beta=0}^{2q}\n",
    "K_{\\alpha \\beta} X_{i + \\alpha - p, j+\\beta - q}\n",
    "$$\n",
    "\n",
    "This operation's name depends on the field:\n",
    "* In machine learning: **convolution**\n",
    "* In mathematics: **cross-correlation**"
   ]
  },
  {
   "cell_type": "markdown",
   "metadata": {},
   "source": [
    "Finally, its time for you to implement matrix convolution.  \n",
    "You can use the example below this code block to test your implementation."
   ]
  },
  {
   "cell_type": "code",
   "execution_count": 195,
   "metadata": {},
   "outputs": [],
   "source": [
    "def conv_matrix(matrix, kernel):\n",
    "    \"\"\"Perform the convolution of the matrix \n",
    "        with the kernel using zero padding\n",
    "    # Arguments\n",
    "        matrix: input matrix np.array of size `(N, M)`\n",
    "        kernel: kernel of the convolution \n",
    "            np.array of size `(2p + 1, 2q + 1)`\n",
    "    # Output\n",
    "        the result of the convolution\n",
    "        np.array of size `(N, M)`\n",
    "    \"\"\"\n",
    "    #################\n",
    "    h, w = matrix.shape\n",
    "    \n",
    "    k_h, k_w = kernel.shape\n",
    "    \n",
    "    p=(k_h-1)//2\n",
    "    q= (k_w-1)//2\n",
    "    #print(q)\n",
    "    output = np.zeros(matrix.shape)\n",
    "    #print(output.shape)\n",
    "    #print(kernel.shape)\n",
    "\n",
    "    padded = np.pad(matrix, [(p,p),(q,q)],'constant',constant_values=(0,0))\n",
    "    \n",
    "   \n",
    "    #matrix = padded[1:matrix.shape[0]+1, 1:matrix.shape[1]+1]\n",
    "   \n",
    "    #k_h=2*p+1\n",
    "    \n",
    "    for row in range(h):\n",
    "       # print(row)\n",
    "        for col in range(w):\n",
    "            #print(col)\n",
    "            output[row,col] = np.sum(padded[row: row+k_h, col: col+2*q+1] * kernel)\n",
    "    #print(output.shape)\n",
    "   \n",
    "    #################\n",
    "    return output"
   ]
  },
  {
   "cell_type": "markdown",
   "metadata": {},
   "source": [
    "Let's test the function with the following data:\n",
    "\n",
    "$$\n",
    "X = \\begin{bmatrix}\n",
    "1 & 2 & 3 \\\\\n",
    "2 & 3 & 4 \\\\\n",
    "3 & 4 & 5 \\\\\n",
    "\\end{bmatrix} \\quad\n",
    "K = \n",
    "\\begin{bmatrix}\n",
    "1 & 0 & 0 \\\\\n",
    "0 & 1 & 0 \\\\\n",
    "0 & 0 & 2 \\\\\n",
    "\\end{bmatrix} \\quad \n",
    "X \\star K = \n",
    "\\begin{bmatrix}\n",
    "7 & 10 & 3 \\\\\n",
    "10 & 14 & 6 \\\\\n",
    "3 & 6 & 8 \\\\\n",
    "\\end{bmatrix}\n",
    "$$\n",
    "\n",
    "We recreate the example data in Python to perform a local test run.  \n",
    "Don't be confused by [np.eye](https://docs.scipy.org/doc/numpy-1.13.0/reference/generated/numpy.eye.html). It fills our kernel matrix with ones on the diagonal from top-left to bottom-right."
   ]
  },
  {
   "cell_type": "code",
   "execution_count": 183,
   "metadata": {},
   "outputs": [
    {
     "name": "stdout",
     "output_type": "stream",
     "text": [
      "[0. 0. 0.]\n",
      "[[1. 0. 0.]\n",
      " [0. 1. 0.]\n",
      " [0. 0. 2.]]\n"
     ]
    }
   ],
   "source": [
    "X = np.array([\n",
    "    [1, 2, 3],\n",
    "    [2, 3, 4],\n",
    "    [3, 4, 5]\n",
    "])\n",
    "\n",
    "K = np.eye(3)\n",
    "K[-1, -1] = 2\n",
    "print(np.zeros(3))\n",
    "print(K)"
   ]
  },
  {
   "cell_type": "markdown",
   "metadata": {},
   "source": [
    "Run the following code block and compare the result with the example above."
   ]
  },
  {
   "cell_type": "code",
   "execution_count": 196,
   "metadata": {},
   "outputs": [
    {
     "name": "stdout",
     "output_type": "stream",
     "text": [
      "1\n",
      "3\n",
      "[[0 0 0 0 0]\n",
      " [0 1 2 3 0]\n",
      " [0 2 3 4 0]\n",
      " [0 3 4 5 0]\n",
      " [0 0 0 0 0]]\n",
      "[[ 7. 10.  3.]\n",
      " [10. 14.  6.]\n",
      " [ 3.  6.  8.]]\n"
     ]
    }
   ],
   "source": [
    "print(conv_matrix(X, K))"
   ]
  },
  {
   "cell_type": "code",
   "execution_count": 197,
   "metadata": {},
   "outputs": [
    {
     "name": "stdout",
     "output_type": "stream",
     "text": [
      "Running local tests...\n",
      "0\n",
      "1\n",
      "[[ 0.         -8.38447369 -0.49515077 -1.61460707  0.        ]]\n",
      "0\n",
      "1\n",
      "[[7.15810861]\n",
      " [5.37444479]]\n",
      "1\n",
      "3\n",
      "[[ 0.          0.          0.          0.          0.          0.        ]\n",
      " [ 0.         -4.73692188 -9.25660526 -3.16300221  8.56469838  0.        ]\n",
      " [ 0.          4.27511514 -2.49153857  0.62580826  3.69914409  0.        ]\n",
      " [ 0.         -8.94911627  6.85598812  6.64718733  1.15861863  0.        ]\n",
      " [ 0.          8.28904155 -9.39370144 -4.33351883 -8.63997489  0.        ]\n",
      " [ 0.         -3.68952996  2.73550829  3.38386675 -7.47575533  0.        ]\n",
      " [ 0.          0.          0.          0.          0.          0.        ]]\n",
      "1\n",
      "3\n",
      "[[ 0.          0.        ]\n",
      " [ 0.75500994  3.99245616]\n",
      " [ 5.86945871 -4.80906443]\n",
      " [-5.50729125  3.36092339]\n",
      " [ 9.22159486 -8.14114445]\n",
      " [-7.07806552  6.53770946]\n",
      " [ 0.          0.        ]]\n",
      "0\n",
      "1\n",
      "[[ 3.24484045  2.17229602 -0.73995033]\n",
      " [ 2.7762911  -4.69173093  9.90868759]\n",
      " [ 4.29124958 -0.63129364 -4.35925875]]\n",
      "1\n",
      "3\n",
      "[[ 0.          0.          0.        ]\n",
      " [ 2.13461423  4.87654577  4.60283132]\n",
      " [-9.09243699  5.50227375 -2.45982906]\n",
      " [ 8.34672903  3.37438622  4.44518867]\n",
      " [ 8.12737671 -7.1852531   9.50462847]\n",
      " [ 0.          0.          0.        ]]\n",
      "1\n",
      "3\n",
      "[[ 0.          0.          0.          0.          0.        ]\n",
      " [ 0.         -1.54358843 -3.96911678 -6.63547231  0.        ]\n",
      " [ 0.          5.26352691 -2.75054412  9.18129436  0.        ]\n",
      " [ 0.         -9.41901962  5.92470841  0.12721698  0.        ]\n",
      " [ 0.          0.02547364 -2.33264626  0.43678723  0.        ]\n",
      " [ 0.          0.          0.          0.          0.        ]]\n",
      "1\n",
      "3\n",
      "[[ 0.          0.          0.          0.          0.          0.        ]\n",
      " [ 0.          7.10321795  1.83132992  4.47144903  9.48564506  0.        ]\n",
      " [ 0.          6.82954872 -2.94468091  1.72587803 -4.63209428  0.        ]\n",
      " [ 0.          9.64367126 -8.40890195 -6.78849497  8.48819808  0.        ]\n",
      " [ 0.         -4.69390448  0.93813154  5.78461569 -1.18581661  0.        ]\n",
      " [ 0.          0.          0.          0.          0.          0.        ]]\n",
      "0\n",
      "1\n",
      "[[ 0.         -7.17447459  2.65045212  8.30059801 -5.43099824 -4.16517799\n",
      "   0.        ]\n",
      " [ 0.         -4.03688208 -4.05307325 -5.93610336  8.8776651   7.69143089\n",
      "   0.        ]\n",
      " [ 0.         -2.28824519  8.47320966  2.00689591 -4.06678198 -3.38395173\n",
      "   0.        ]]\n",
      "0\n",
      "1\n",
      "[[-1.62650006]]\n",
      "0\n",
      "1\n",
      "[[ 8.7514624   4.66489796 -5.6059904 ]\n",
      " [-8.53061857 -5.2697471   1.38698743]]\n",
      "1\n",
      "3\n",
      "[[ 0.          0.          0.          0.          0.          0.        ]\n",
      " [ 0.          7.60836731  4.68172776 -3.83120556  9.39036074  0.        ]\n",
      " [ 0.         -6.33134552  0.42689776  7.58521711  0.25091092  0.        ]\n",
      " [ 0.          2.14966134  6.00568599 -7.14471841  4.33514433  0.        ]\n",
      " [ 0.          6.03976319 -0.78647361  4.00927846 -2.0118305   0.        ]\n",
      " [ 0.          7.65304409 -7.95967346 -0.48691297  9.5896655   0.        ]\n",
      " [ 0.          0.          0.          0.          0.          0.        ]]\n",
      "0\n",
      "1\n",
      "[[ 0.         -8.98993765  6.98898158 -7.95830706 -8.44247061  0.        ]\n",
      " [ 0.          0.11941505  1.036572    1.63110724  2.02111818  0.        ]]\n",
      "1\n",
      "3\n",
      "[[ 0.          0.          0.          0.          0.        ]\n",
      " [ 0.          4.59218104 -3.85336566  5.65540366  0.        ]\n",
      " [ 0.          5.88772114 -8.66994844 -0.06045126  0.        ]\n",
      " [ 0.          1.82207787 -2.95084778 -8.39171667  0.        ]\n",
      " [ 0.          0.          0.          0.          0.        ]]\n",
      "0\n",
      "1\n",
      "[[ 0.         -6.16961649  1.55982888 -2.36078314  2.57382784  0.        ]]\n",
      "0\n",
      "1\n",
      "[[0.         3.72700331 0.23168944 3.51125825 0.        ]]\n",
      "1\n",
      "3\n",
      "[[ 0.          0.          0.        ]\n",
      " [-8.64217679 -3.96905295 -3.49201829]\n",
      " [ 2.54973216 -9.05006395  0.80505342]\n",
      " [ 1.64215971  9.31350161 -6.2351537 ]\n",
      " [-9.23116207 -7.33761298 -6.17369531]\n",
      " [ 8.93478177  9.78744343  6.05544638]\n",
      " [ 0.          0.          0.        ]]\n",
      "0\n",
      "1\n",
      "[[ 1.41258687 -1.86392238]\n",
      " [ 1.43772535  0.43593711]]\n",
      "1\n",
      "3\n",
      "[[ 0.          0.          0.          0.          0.        ]\n",
      " [ 0.         -8.40215565  4.34666804 -1.8127049   0.        ]\n",
      " [ 0.          2.50984675  3.3236362  -3.02496632  0.        ]\n",
      " [ 0.         -8.26720284  5.55696096  9.75287118  0.        ]\n",
      " [ 0.          4.04372674  8.16464718 -6.89547388  0.        ]\n",
      " [ 0.          8.43137203  7.33091663  6.16554673  0.        ]\n",
      " [ 0.          0.          0.          0.          0.        ]]\n",
      "1\n",
      "3\n",
      "[[ 0.          0.          0.        ]\n",
      " [-1.16418097  0.10778762  0.3380029 ]\n",
      " [ 7.95290405 -8.33652318  5.22095217]\n",
      " [ 4.30852073 -6.62054239  5.93689142]\n",
      " [ 0.          0.          0.        ]]\n",
      "0\n",
      "1\n",
      "[[-5.95385566]\n",
      " [ 8.70881373]\n",
      " [-8.23797734]]\n",
      "0\n",
      "1\n",
      "[[ 0.         -4.39713361  2.46943184  6.49406416  0.62857188 -4.15100163\n",
      "   0.        ]]\n",
      "0\n",
      "1\n",
      "[[ 0.         -7.5877512  -8.64519257 -6.06160906 -0.84619609  0.        ]\n",
      " [ 0.         -4.64709545 -9.13562969  1.81125531 -2.66975348  0.        ]\n",
      " [ 0.         -7.63456313 -8.00063798  5.71767087 -0.07734568  0.        ]]\n",
      "1\n",
      "3\n",
      "[[ 0.          0.          0.          0.          0.          0.\n",
      "   0.        ]\n",
      " [ 0.          1.14036842 -9.30480491 -4.13427061  2.38539295  9.49177226\n",
      "   0.        ]\n",
      " [ 0.          2.61490835 -6.18672664  0.69372558  0.47630819 -2.19522397\n",
      "   0.        ]\n",
      " [ 0.          5.14824156  6.08874025 -3.64438003 -7.95856521  9.23453477\n",
      "   0.        ]\n",
      " [ 0.         -0.58625258 -2.92538574 -3.49992824  0.65235639 -4.22478838\n",
      "   0.        ]\n",
      " [ 0.          0.          0.          0.          0.          0.\n",
      "   0.        ]]\n",
      "1\n",
      "3\n",
      "[[ 0.          0.        ]\n",
      " [-2.60214454 -7.42426591]\n",
      " [-8.08097821 -5.53863384]\n",
      " [ 0.90878822  7.99040652]\n",
      " [-0.11993161 -0.16384826]\n",
      " [-4.48208185 -8.93214235]\n",
      " [ 0.          0.        ]]\n",
      "1\n",
      "3\n",
      "[[ 0.        ]\n",
      " [-2.00161171]\n",
      " [ 7.34044006]\n",
      " [-9.91849626]\n",
      " [ 0.        ]]\n",
      "1\n",
      "3\n",
      "[[ 0.          0.          0.        ]\n",
      " [ 0.05588034 -6.7308044  -0.40692729]\n",
      " [-2.4512873   8.92533528  9.09574545]\n",
      " [ 4.5396371  -3.85187755 -1.80913034]\n",
      " [-2.21370283 -5.1636541   3.09528336]\n",
      " [ 7.75259716 -0.38576225 -0.4472115 ]\n",
      " [ 0.          0.          0.        ]]\n",
      "1\n",
      "3\n",
      "[[ 0.        ]\n",
      " [-1.84480849]\n",
      " [ 9.31341105]\n",
      " [-5.22042138]\n",
      " [-2.6873908 ]\n",
      " [-0.95003152]\n",
      " [ 0.        ]]\n",
      "0\n",
      "1\n",
      "[[ 0.         -9.8073757  -7.43382642  6.75741505  6.2502401   0.        ]\n",
      " [ 0.         -3.23782584 -5.73995789 -1.42298569 -4.69136048  0.        ]\n",
      " [ 0.          4.27089356  4.79760235 -4.71979962 -5.5238184   0.        ]]\n",
      "1\n",
      "3\n",
      "[[ 0.          0.        ]\n",
      " [-4.47765307 -1.92225953]\n",
      " [ 6.14935223  9.17505414]\n",
      " [ 2.12698546  5.45999012]\n",
      " [ 3.91670241 -9.66296815]\n",
      " [ 6.89852106  6.04552949]\n",
      " [ 0.          0.        ]]\n",
      "0\n",
      "1\n",
      "[[0.         3.06989856 3.15060712 9.36404462 1.48683867 0.        ]]\n",
      "1\n",
      "3\n",
      "[[ 0.        ]\n",
      " [ 7.36422472]\n",
      " [ 7.36151523]\n",
      " [ 5.14992697]\n",
      " [-9.98146399]\n",
      " [-0.19745036]\n",
      " [ 0.        ]]\n",
      "0\n",
      "1\n",
      "[[-7.57921663]\n",
      " [ 2.9370042 ]]\n",
      "1\n",
      "3\n",
      "[[ 0.          0.          0.          0.          0.          0.\n",
      "   0.        ]\n",
      " [ 0.          5.39726359 -1.84804215 -0.79055694  7.9598025   4.05084339\n",
      "   0.        ]\n",
      " [ 0.         -5.07496629  7.88874368  2.40334145  6.22491327  2.61440963\n",
      "   0.        ]\n",
      " [ 0.          1.78467714 -8.35623753 -0.1551842  -8.06731517 -0.60699396\n",
      "   0.        ]\n",
      " [ 0.         -1.4660665  -6.85756264  7.8390595   4.00134418  5.30913703\n",
      "   0.        ]\n",
      " [ 0.          0.          0.          0.          0.          0.\n",
      "   0.        ]]\n",
      "0\n",
      "1\n",
      "[[ 0.         -7.60582437 -2.86858674 -9.52187177 -2.5890534  -4.60549639\n",
      "   0.        ]]\n",
      "0\n",
      "1\n",
      "[[ 0.          3.26609987 -6.36280116  2.15286847  0.        ]\n",
      " [ 0.          1.09939471  5.59817133  3.02838023  0.        ]]\n",
      "0\n",
      "1\n",
      "[[-9.7539823   3.66232502]\n",
      " [-4.2001658   9.29726047]\n",
      " [-8.80313763 -5.5573115 ]]\n",
      "0\n",
      "1\n",
      "[[-0.50371693 -0.99740337  0.68714349]]\n",
      "0\n",
      "1\n",
      "[[-3.2921169  -9.50340116]]\n",
      "1\n",
      "3\n",
      "[[ 0.          0.          0.          0.          0.          0.\n",
      "   0.        ]\n",
      " [ 0.          2.97183522  7.99417779  7.65309837  2.04938536  0.90210414\n",
      "   0.        ]\n",
      " [ 0.          7.33052247  4.97068767 -6.1956303  -7.84800946 -3.15706435\n",
      "   0.        ]\n",
      " [ 0.         -5.49156387 -3.28089988  8.33976015 -2.81928446 -7.80171052\n",
      "   0.        ]\n",
      " [ 0.         -9.34864138 -3.20016623  4.83156094  8.74100032  5.48149367\n",
      "   0.        ]\n",
      " [ 0.          0.          0.          0.          0.          0.\n",
      "   0.        ]]\n",
      "1\n",
      "3\n",
      "[[ 0.          0.          0.          0.          0.          0.\n",
      "   0.        ]\n",
      " [ 0.         -2.74527038  6.30490892 -0.16300411 -6.59907889 -6.68139461\n",
      "   0.        ]\n",
      " [ 0.         -5.4312935  -0.05114418 -4.80669566 -5.64173707  1.87019158\n",
      "   0.        ]\n",
      " [ 0.          8.45452634  8.12557166 -6.66022671  0.37654835  7.5163188\n",
      "   0.        ]\n",
      " [ 0.          0.          0.          0.          0.          0.\n",
      "   0.        ]]\n",
      "0\n",
      "1\n",
      "[[-4.60248404]\n",
      " [ 9.75281947]\n",
      " [ 4.9070979 ]]\n",
      "0\n",
      "1\n",
      "[[ 0.         -8.30111865 -2.31650974 -1.65729308  9.68530813  0.        ]\n",
      " [ 0.         -1.47606247 -2.17244092 -1.19909837 -9.09857629  0.        ]]\n",
      "1\n",
      "3\n",
      "[[ 0.          0.          0.        ]\n",
      " [ 2.98914629 -1.43500871 -3.61235113]\n",
      " [ 4.26029973  1.34332841 -9.61858307]\n",
      " [ 1.4120794  -0.98191918  6.37956299]\n",
      " [ 9.94995259 -9.12593098  1.92321584]\n",
      " [ 0.          0.          0.        ]]\n",
      "1\n",
      "3\n",
      "[[ 0.        ]\n",
      " [-3.07398187]\n",
      " [ 1.1328114 ]\n",
      " [-9.15169828]\n",
      " [-1.84389131]\n",
      " [-7.79783237]\n",
      " [ 0.        ]]\n",
      "1\n",
      "3\n",
      "[[ 0.          0.          0.          0.          0.          0.\n",
      "   0.        ]\n",
      " [ 0.          2.31614635  4.92121125 -9.83567964  9.67429343 -8.179539\n",
      "   0.        ]\n",
      " [ 0.         -1.67859802 -2.33520578  7.49181874  2.06137148 -7.91707161\n",
      "   0.        ]\n",
      " [ 0.          5.75559823 -7.84185506 -5.74570973  4.92966121 -7.36190222\n",
      "   0.        ]\n",
      " [ 0.          0.          0.          0.          0.          0.\n",
      "   0.        ]]\n",
      "1\n",
      "3\n",
      "[[ 0.          0.          0.          0.          0.          0.        ]\n",
      " [ 0.          8.00953507  2.45154455  3.99351712  5.3829088   0.        ]\n",
      " [ 0.          8.36243393 -5.6445625  -7.3915606   6.03980707  0.        ]\n",
      " [ 0.          8.28842047  8.09966901  6.44054953 -4.94502383  0.        ]\n",
      " [ 0.          5.59126303 -9.48883878  3.57146235  9.89229778  0.        ]\n",
      " [ 0.          0.          0.          0.          0.          0.        ]]\n",
      "0\n",
      "1\n",
      "[[ 0.          1.70682144 -5.21722242  5.0700282   6.14134688  1.88458321\n",
      "   0.        ]\n",
      " [ 0.         -1.37004708 -7.57041014 -9.0835325  -6.24831614  4.08985623\n",
      "   0.        ]\n",
      " [ 0.          8.52402773 -6.62206557 -3.22772815  7.41431159 -0.1767911\n",
      "   0.        ]]\n",
      "1\n",
      "3\n",
      "[[ 0.        ]\n",
      " [ 5.92887001]\n",
      " [-5.64002785]\n",
      " [-4.15477258]\n",
      " [ 8.00877333]\n",
      " [-8.01824904]\n",
      " [ 0.        ]]\n",
      "0\n",
      "1\n",
      "[[ 1.00850054  7.64264623]\n",
      " [-8.73531983 -0.71349109]\n",
      " [-3.77226053 -9.5571644 ]]\n",
      "0\n",
      "1\n",
      "[[-9.45451014  8.55436491  6.01328589]]\n",
      "0\n",
      "1\n",
      "[[ 0.         -0.96435284 -1.86779836  9.08739826 -6.20368128  0.        ]\n",
      " [ 0.          3.71920851 -1.64166764 -1.55963109 -2.39013444  0.        ]]\n",
      "0\n",
      "1\n",
      "[[ 0.          4.08022521 -6.8852357  -2.93474058  0.        ]\n",
      " [ 0.         -9.89893917  0.82540804 -5.14263622  0.        ]]\n",
      "0\n",
      "1\n",
      "[[8.3444076]]\n",
      "0\n",
      "1\n",
      "[[-7.56920258]]\n",
      "0\n",
      "1\n",
      "[[ 0.          2.20560934 -2.75574638 -8.57332505  3.80324226  0.        ]\n",
      " [ 0.         -3.00449526  8.19168467  3.20264867  3.67920889  0.        ]]\n",
      "0\n",
      "1\n",
      "[[-8.53935754]\n",
      " [-1.32670953]\n",
      " [ 4.85978809]]\n",
      "1\n",
      "3\n",
      "[[ 0.          0.          0.        ]\n",
      " [ 0.58186884 -0.09579169 -2.95727536]\n",
      " [ 7.93012537 -1.3561104   6.72208742]\n",
      " [ 0.68908315  9.47351687 -5.73606759]\n",
      " [-6.76585902  4.06462508 -7.55872805]\n",
      " [ 0.          0.          0.        ]]\n",
      "0\n",
      "1\n",
      "[[ 0.          8.10676346 -4.66446883  8.23798041  0.        ]\n",
      " [ 0.          3.89737634  1.06599734  6.129534    0.        ]\n",
      " [ 0.          4.28826546 -7.03906501  2.43924737  0.        ]]\n",
      "0\n",
      "1\n",
      "[[ 2.58387368]\n",
      " [-4.09265841]]\n",
      "1\n",
      "3\n",
      "[[ 0.          0.          0.          0.          0.          0.        ]\n",
      " [ 0.         -5.0846541  -0.28282406 -6.03383369  0.35273028  0.        ]\n",
      " [ 0.          6.88303103  1.54599084  8.54514598  0.08321234  0.        ]\n",
      " [ 0.          6.91668595  8.70091969 -2.01004725 -9.85880789  0.        ]\n",
      " [ 0.          0.          0.          0.          0.          0.        ]]\n",
      "1\n",
      "3\n",
      "[[ 0.        ]\n",
      " [-5.4877119 ]\n",
      " [ 3.69985598]\n",
      " [ 2.05258505]\n",
      " [ 8.52099126]\n",
      " [-5.67210588]\n",
      " [ 0.        ]]\n",
      "0\n",
      "1\n",
      "[[ 0.          1.39780646  3.22212611 -8.27347409 -9.62650996  0.        ]]\n",
      "0\n",
      "1\n",
      "[[-2.87204544 -5.20861742  4.7903594 ]\n",
      " [-2.64733321 -6.40346299  5.02109365]]\n",
      "0\n",
      "1\n",
      "[[ 0.         -0.97133041 -0.76461538  1.4954519  -4.01571896  0.        ]]\n",
      "0\n",
      "1\n",
      "[[ 0.         -3.7465838  -5.6318432  -3.68957782  0.        ]\n",
      " [ 0.         -8.62746117 -7.36451813  9.27106928  0.        ]\n",
      " [ 0.          7.98499818  9.44041564  6.42687515  0.        ]]\n",
      "1\n",
      "3\n",
      "[[ 0.          0.        ]\n",
      " [ 2.85739155  7.43164711]\n",
      " [-5.2109981   3.3081635 ]\n",
      " [-4.74848289 -5.62985297]\n",
      " [ 0.          0.        ]]\n",
      "0\n",
      "1\n",
      "[[ 0.          2.00131381  8.43634082  3.95626405 -1.960807   -1.07726159\n",
      "   0.        ]]\n",
      "0\n",
      "1\n",
      "[[ 0.         -2.7444829   0.60395526  6.65342225  0.        ]]\n",
      "0\n",
      "1\n",
      "[[ 0.          8.82386932 -3.83186373 -4.13816362  0.        ]]\n",
      "1\n",
      "3\n",
      "[[ 0.          0.          0.          0.          0.          0.        ]\n",
      " [ 0.         -8.74085288  1.08013857 -3.54642615 -9.62444645  0.        ]\n",
      " [ 0.         -0.62049473  2.89325061 -4.14361875  0.206933    0.        ]\n",
      " [ 0.          5.75686636  9.02520197 -1.0478208   3.37407441  0.        ]\n",
      " [ 0.         -2.96004333 -6.29274988 -8.17007266  1.29514373  0.        ]\n",
      " [ 0.          7.81219787  1.77393562  0.23802247  5.07350891  0.        ]\n",
      " [ 0.          0.          0.          0.          0.          0.        ]]\n",
      "1\n",
      "3\n",
      "[[ 0.        ]\n",
      " [ 7.2993816 ]\n",
      " [-1.19543556]\n",
      " [-5.28469584]\n",
      " [-7.66201145]\n",
      " [ 0.        ]]\n",
      "0\n",
      "1\n",
      "[[9.11064294 7.11142581]]\n",
      "0\n",
      "1\n",
      "[[ 0.         -0.31421761  4.02732227  7.56316125  2.57324738  0.        ]\n",
      " [ 0.          1.74192712  7.54378451  5.71761711 -1.46021531  0.        ]\n",
      " [ 0.          3.65680201 -8.01031549 -6.41820968 -5.49233006  0.        ]]\n",
      "1\n",
      "3\n",
      "[[ 0.          0.          0.          0.          0.          0.\n",
      "   0.        ]\n",
      " [ 0.         -9.37260425 -6.74572532 -7.58256592 -2.28065897 -7.01001118\n",
      "   0.        ]\n",
      " [ 0.          5.43818292  2.43934603 -4.50948065 -3.87574922  4.11007428\n",
      "   0.        ]\n",
      " [ 0.          6.24736507  3.25841711  1.71091326  4.50136774  0.900294\n",
      "   0.        ]\n",
      " [ 0.          0.          0.          0.          0.          0.\n",
      "   0.        ]]\n",
      "1\n",
      "3\n",
      "[[ 0.        ]\n",
      " [ 1.39077836]\n",
      " [ 7.07597869]\n",
      " [-8.74928603]\n",
      " [ 2.22988246]\n",
      " [-3.3642239 ]\n",
      " [ 0.        ]]\n",
      "0\n",
      "1\n",
      "[[ 0.          3.71665646 -1.9920499   3.59186558  0.        ]]\n",
      "0\n",
      "1\n",
      "[[9.60550659]\n",
      " [3.568172  ]]\n",
      "0\n",
      "1\n",
      "[[ 0.          2.95122778 -4.05223089  0.9782716   0.        ]\n",
      " [ 0.         -5.97884439  3.60577374  5.70140227  0.        ]]\n",
      "1\n",
      "3\n",
      "[[ 0.        ]\n",
      " [-0.51794323]\n",
      " [ 7.36441838]\n",
      " [-6.95992066]\n",
      " [-8.71466372]\n",
      " [ 0.        ]]\n",
      "1\n",
      "3\n",
      "[[ 0.        ]\n",
      " [ 1.0881198 ]\n",
      " [ 6.55442218]\n",
      " [ 5.92324168]\n",
      " [-5.41928969]\n",
      " [ 0.        ]]\n",
      "0\n",
      "1\n",
      "[[ 0.         -0.46463258 -8.48767372  4.46532726  8.86686223  0.        ]\n",
      " [ 0.          9.9515551   7.58696917  6.7284224   3.37687704  0.        ]\n",
      " [ 0.         -8.92789964  6.75663471  7.89772339  6.37999594  0.        ]]\n",
      "0\n",
      "1\n",
      "[[ 2.03957935]\n",
      " [ 4.35393833]\n",
      " [-7.34819019]]\n",
      "1\n",
      "3\n",
      "[[ 0.          0.          0.          0.          0.        ]\n",
      " [ 0.         -1.27963668  7.00073767  8.94339893  0.        ]\n",
      " [ 0.          4.30682167  9.64965869  9.58829112  0.        ]\n",
      " [ 0.         -4.9756602  -2.17032426  3.94419025  0.        ]\n",
      " [ 0.         -8.20002403 -1.42180557 -3.37543557  0.        ]\n",
      " [ 0.          0.          0.          0.          0.        ]]\n",
      "1\n",
      "3\n",
      "[[ 0.          0.          0.          0.          0.          0.        ]\n",
      " [ 0.          6.95161008 -0.77881443  5.71459937 -1.74985924  0.        ]\n",
      " [ 0.         -0.16157138 -2.16511328 -7.85641413 -1.97723801  0.        ]\n",
      " [ 0.         -5.77802525 -3.14645022  6.30289497  7.93837887  0.        ]\n",
      " [ 0.          1.77867381  5.79556635 -6.96533947  2.48537389  0.        ]\n",
      " [ 0.         -7.75934186  1.04335065  8.15621348 -7.21934936  0.        ]\n",
      " [ 0.          0.          0.          0.          0.          0.        ]]\n",
      "0\n",
      "1\n",
      "[[ 0.         -7.57390322  1.65578845  6.77469785  9.53781607  0.        ]\n",
      " [ 0.          9.18815962  6.62002773  2.63260152 -5.23786335  0.        ]\n",
      " [ 0.         -3.44273213  8.98690818  9.03685186  7.16971287  0.        ]]\n",
      "1\n",
      "3\n",
      "[[ 0.          0.          0.        ]\n",
      " [-9.77065864 -8.33394709  9.11980742]\n",
      " [ 3.86284952 -3.69566611  2.0138393 ]\n",
      " [-0.81744895  6.68656501 -1.60322782]\n",
      " [ 0.          0.          0.        ]]\n",
      "1\n",
      "3\n",
      "[[ 0.        ]\n",
      " [ 6.10840299]\n",
      " [ 5.68511138]\n",
      " [-2.56881786]\n",
      " [ 9.55158158]\n",
      " [ 0.        ]]\n",
      "0\n",
      "1\n",
      "[[-8.428057    6.34590771]\n",
      " [-6.44404227 -4.41879981]\n",
      " [-2.05081867 -1.37329587]]\n",
      "0\n",
      "1\n",
      "[[ 7.75894173  1.52556455]\n",
      " [ 2.91223904  2.60845189]\n",
      " [-5.27372793 -2.514423  ]]\n",
      "0\n",
      "1\n",
      "[[ 0.          1.03837936 -5.14418357  5.1493846  -3.83572683  5.64804198\n",
      "   0.        ]\n",
      " [ 0.         -3.8038217  -6.022419   -1.99546395 -6.94965201 -9.90510977\n",
      "   0.        ]]\n",
      "1\n",
      "3\n",
      "[[ 0.          0.          0.          0.          0.        ]\n",
      " [ 0.          3.08505429 -8.62051149 -9.21896731  0.        ]\n",
      " [ 0.         -9.11163833 -9.2714083  -2.69405885  0.        ]\n",
      " [ 0.         -0.20725611 -5.19864484  4.98809826  0.        ]\n",
      " [ 0.         -4.72982759 -6.76137319 -3.05079044  0.        ]\n",
      " [ 0.          0.          0.          0.          0.        ]]\n",
      "1\n",
      "3\n",
      "[[ 0.          0.          0.          0.          0.          0.\n",
      "   0.        ]\n",
      " [ 0.         -7.76383096 -3.53148715  6.19017722  7.69489274 -4.08716047\n",
      "   0.        ]\n",
      " [ 0.         -1.56671863 -5.26905749  4.50111651 -0.3228707  -7.04810151\n",
      "   0.        ]\n",
      " [ 0.         -3.41500358 -4.31963293 -6.49026447 -6.58589794 -8.95111381\n",
      "   0.        ]\n",
      " [ 0.          4.19534371  4.84826749 -7.51625978  3.69375264  6.31491406\n",
      "   0.        ]\n",
      " [ 0.          0.          0.          0.          0.          0.\n",
      "   0.        ]]\n",
      "1\n",
      "3\n",
      "[[ 0.          0.          0.          0.          0.          0.        ]\n",
      " [ 0.         -8.3627318   6.62450622  9.19032655 -5.9892851   0.        ]\n",
      " [ 0.          2.16866399  1.13136402  8.65994153  9.26161534  0.        ]\n",
      " [ 0.          8.92212635 -9.13778552  2.91990545 -3.66183563  0.        ]\n",
      " [ 0.          6.11181037 -4.33659172  5.2515313  -0.55181793  0.        ]\n",
      " [ 0.          0.          0.          0.          0.          0.        ]]\n",
      "0\n",
      "1\n",
      "[[ 0.          0.76727028 -6.35444242 -3.20099767 -0.77406687  0.        ]]\n",
      "0\n",
      "1\n",
      "[[ 0.          0.86348289  9.61714598 -0.78440421  0.        ]]\n",
      "0\n",
      "1\n",
      "[[ 0.          5.5060483  -2.52578119  9.93548919 -6.37369869  3.63517248\n",
      "   0.        ]]\n",
      "1\n",
      "3\n",
      "[[ 0.00000000e+00  0.00000000e+00  0.00000000e+00  0.00000000e+00\n",
      "   0.00000000e+00  0.00000000e+00]\n",
      " [ 0.00000000e+00  1.60215630e+00  9.18637878e+00  8.31934384e+00\n",
      "   6.51184908e+00  0.00000000e+00]\n",
      " [ 0.00000000e+00 -8.45733373e-03 -7.47651912e+00 -3.37155802e+00\n",
      "   6.61052478e-01  0.00000000e+00]\n",
      " [ 0.00000000e+00  7.80154781e+00  6.64345459e+00 -4.32203768e+00\n",
      "  -9.88325467e+00  0.00000000e+00]\n",
      " [ 0.00000000e+00  0.00000000e+00  0.00000000e+00  0.00000000e+00\n",
      "   0.00000000e+00  0.00000000e+00]]\n",
      "1\n",
      "3\n",
      "[[ 0.          0.          0.        ]\n",
      " [-3.48609008  1.52691304  9.08738529]\n",
      " [ 4.34838792  7.78003469 -3.4135796 ]\n",
      " [-7.90562446  8.20187452  5.00329202]\n",
      " [ 9.67034011 -1.99219616 -7.15584664]\n",
      " [ 7.25206564 -9.53719523 -4.96754374]\n",
      " [ 0.          0.          0.        ]]\n",
      "0\n",
      "1\n",
      "[[ 0.          8.75075203 -6.89305161 -0.25928589 -8.56503508  0.        ]]\n",
      "conv_matrix successfully passed local tests\n",
      "Running remote test...\n"
     ]
    },
    {
     "name": "stdout",
     "output_type": "stream",
     "text": [
      "1\n",
      "3\n",
      "[[ 0.          0.          0.          0.          0.          0.        ]\n",
      " [ 0.         -5.55197752  0.19966872 -1.53268112 -5.82423684  0.        ]\n",
      " [ 0.         -8.80744583 -0.53135832  3.78801354  2.15179647  0.        ]\n",
      " [ 0.          4.22441616  4.87508946  3.2745035  -9.52326199  0.        ]\n",
      " [ 0.         -1.64336469 -8.89643784 -7.07491103  3.5075566   0.        ]\n",
      " [ 0.         -9.85831038  4.70860102  4.46075453  4.28858307  0.        ]\n",
      " [ 0.          0.          0.          0.          0.          0.        ]]\n",
      "Test was successful. Congratulations!\n"
     ]
    }
   ],
   "source": [
    "am.test_student_function(username, conv_matrix, ['matrix', 'kernel'])"
   ]
  },
  {
   "cell_type": "markdown",
   "metadata": {},
   "source": [
    "## 3.2 Basic kernels\n",
    "\n",
    "Matrix convolution can be used to process an image (think Instagram): blur, shift, detecting edges, and much more.  \n",
    "This [article](http://setosa.io/ev/image-kernels/) (**recommended read**) about image kernels should give you a better understanding of convolutions. It happens to be interactive as well.\n",
    "\n",
    "In convolutional layers, the kernels are learned by training on the dataset. However, there are predefined kernels, for example used on your Instagram photos. Some examples are:\n",
    "\n",
    "**Sharpen Kernel:** \n",
    "$$ \n",
    "\\begin{equation*}\n",
    "\\begin{bmatrix}\n",
    "0 & -1 & 0 \\\\\n",
    "-1 & 5 & -1 \\\\\n",
    "0 & -1 & 0 \n",
    "\\end {bmatrix}\n",
    "\\end{equation*}\n",
    "$$\n",
    "\n",
    "**Edge detection filter:**\n",
    "$$\n",
    "\\begin{equation*}\n",
    "\\begin{bmatrix}\n",
    "-1 & -1 & -1 \\\\\n",
    "-1 & 8 & -1 \\\\\n",
    "-1 & -1 & -1 \n",
    "\\end {bmatrix}\n",
    "\\end{equation*}\n",
    "$$\n",
    "\n",
    "**Box blur of size 3:**\n",
    "$$ \\frac{1}{9}\n",
    "\\begin{equation*}\n",
    "\\begin{bmatrix}\n",
    "1 & 1 & 1 \\\\\n",
    "1 & 1 & 1 \\\\\n",
    "1 & 1 & 1 \n",
    "\\end {bmatrix}\n",
    "\\end{equation*}\n",
    "$$\n",
    "\n",
    "Let's play with convolutions by manipulating an image of a dog."
   ]
  },
  {
   "cell_type": "code",
   "execution_count": 64,
   "metadata": {},
   "outputs": [
    {
     "data": {
      "text/plain": [
       "<matplotlib.image.AxesImage at 0x7f8e3b1c1250>"
      ]
     },
     "execution_count": 64,
     "metadata": {},
     "output_type": "execute_result"
    },
    {
     "data": {
      "image/png": "[encoded data removed]",
      "text/plain": [
       "<Figure size 432x288 with 1 Axes>"
      ]
     },
     "metadata": {
      "needs_background": "light"
     },
     "output_type": "display_data"
    }
   ],
   "source": [
    "rgb_img = plt.imread('./images/dog.png')\n",
    "plt.imshow(rgb_img)"
   ]
  },
  {
   "cell_type": "markdown",
   "metadata": {},
   "source": [
    "Coloured images would require a 3-dimensional tensor to represent RGB (red, green, and blue).  \n",
    "Therefore, we will convert it to grayscale. This way it can be processed as a matrix."
   ]
  },
  {
   "cell_type": "code",
   "execution_count": 65,
   "metadata": {},
   "outputs": [
    {
     "data": {
      "text/plain": [
       "<matplotlib.image.AxesImage at 0x7f8e3b09fee0>"
      ]
     },
     "execution_count": 65,
     "metadata": {},
     "output_type": "execute_result"
    },
    {
     "data": {
      "image/png": "[encoded data removed]",
      "text/plain": [
       "<Figure size 432x288 with 1 Axes>"
      ]
     },
     "metadata": {
      "needs_background": "light"
     },
     "output_type": "display_data"
    }
   ],
   "source": [
    "img = rgb_img.mean(axis=2)\n",
    "plt.imshow(img, cmap='gray')"
   ]
  },
  {
   "cell_type": "markdown",
   "metadata": {},
   "source": [
    "First of all, let's blur the image with [box blur](https://en.wikipedia.org/wiki/Box_blur). It is just a convolution of a matrix with the kernel of size $N \\times N$ of the following form:\n",
    "\n",
    "$$\n",
    "\\frac{1}{N^2}\n",
    "\\begin{bmatrix}\n",
    "1 & \\dots  & 1\\\\\n",
    "\\vdots & \\ddots & \\vdots\\\\\n",
    "1 & \\dots  & 1\\\\\n",
    "\\end{bmatrix}\n",
    "$$\n",
    "\n",
    "Every element of this filter is *one* and we divide the sum by the total amount of elements in the blur filter. You could understand it as taking the average of an image region.\n",
    "\n",
    "**Description:**  \n",
    "Perform the blur of the image.\n",
    "\n",
    "<u>Arguments:</u>\n",
    "* `image` - Input matrix - [np.array](https://docs.scipy.org/doc/numpy-1.13.0/reference/generated/numpy.array.html) of size `(N, M)`\n",
    "* `box_size` - Size of the blur kernel - `int > 0` the kernel is of size `(box_size, box_size)`\n",
    "\n",
    "<u>Output:</u>  \n",
    "The result of the blur [np.array](https://docs.scipy.org/doc/numpy-1.13.0/reference/generated/numpy.array.html) of size `(N, M)`"
   ]
  },
  {
   "cell_type": "code",
   "execution_count": 178,
   "metadata": {},
   "outputs": [],
   "source": [
    "def box_blur(image, box_size):\n",
    "    \"\"\"Perform the blur of the image\n",
    "    # Arguments\n",
    "        image: input matrix - np.array of size `(N, M)`\n",
    "        box_size: the size of the blur kernel - int > 0  \n",
    "            the kernel is of size `(box_size, box_size)`\n",
    "    # Output\n",
    "        the result of the blur\n",
    "            np.array of size `(N, M)`\n",
    "    \"\"\"   \n",
    "    #################\n",
    "    x= 1.0* np.ones([box_size, box_size])/(box_size**2)\n",
    "    \n",
    "    output=conv_matrix(image, x)\n",
    "    \n",
    "\n",
    "    #################\n",
    "    return output"
   ]
  },
  {
   "cell_type": "markdown",
   "metadata": {},
   "source": [
    "You can test your solution before submitting it. Running the following code block should yield this result:\n",
    "$$ \n",
    "\\begin{equation*}\n",
    "\\begin{bmatrix}\n",
    "1 & 2 & 1 \\\\\n",
    "2 & 4 & 2 \\\\\n",
    "1 & 2 & 1 \n",
    "\\end {bmatrix}\n",
    "\\end{equation*}\n",
    "$$"
   ]
  },
  {
   "cell_type": "code",
   "execution_count": 179,
   "metadata": {},
   "outputs": [
    {
     "name": "stdout",
     "output_type": "stream",
     "text": [
      "(3, 3)\n",
      "[[1. 2. 1.]\n",
      " [2. 4. 2.]\n",
      " [1. 2. 1.]]\n"
     ]
    }
   ],
   "source": [
    "test_image = np.array([\n",
    "    [9, 0, 9],\n",
    "    [0, 0, 0],\n",
    "    [9, 0, 9]\n",
    "])\n",
    "\n",
    "print(box_blur(test_image, 3))"
   ]
  },
  {
   "cell_type": "code",
   "execution_count": 187,
   "metadata": {},
   "outputs": [
    {
     "name": "stdout",
     "output_type": "stream",
     "text": [
      "Running local tests...\n",
      "box_blur successfully passed local tests\n",
      "Running remote test...\n"
     ]
    },
    {
     "ename": "ServerError",
     "evalue": "your timeout expires in 23 sec.",
     "output_type": "error",
     "traceback": [
      "\u001b[0;31m---------------------------------------------------------------------------\u001b[0m",
      "\u001b[0;31mServerError\u001b[0m                               Traceback (most recent call last)",
      "\u001b[0;32m<ipython-input-187-c9a993e84c55>\u001b[0m in \u001b[0;36m<module>\u001b[0;34m\u001b[0m\n\u001b[0;32m----> 1\u001b[0;31m \u001b[0mam\u001b[0m\u001b[0;34m.\u001b[0m\u001b[0mtest_student_function\u001b[0m\u001b[0;34m(\u001b[0m\u001b[0musername\u001b[0m\u001b[0;34m,\u001b[0m \u001b[0mbox_blur\u001b[0m\u001b[0;34m,\u001b[0m \u001b[0;34m[\u001b[0m\u001b[0;34m'image'\u001b[0m\u001b[0;34m,\u001b[0m \u001b[0;34m'box_size'\u001b[0m\u001b[0;34m]\u001b[0m\u001b[0;34m)\u001b[0m\u001b[0;34m\u001b[0m\u001b[0;34m\u001b[0m\u001b[0m\n\u001b[0m",
      "\u001b[0;32m~/Documents/Master/AML/week_3/automark.py\u001b[0m in \u001b[0;36mtest_student_function\u001b[0;34m(username, function, arg_keys)\u001b[0m\n\u001b[1;32m    155\u001b[0m         \u001b[0msys\u001b[0m\u001b[0;34m.\u001b[0m\u001b[0mstdout\u001b[0m\u001b[0;34m.\u001b[0m\u001b[0mflush\u001b[0m\u001b[0;34m(\u001b[0m\u001b[0;34m)\u001b[0m\u001b[0;34m\u001b[0m\u001b[0;34m\u001b[0m\u001b[0m\n\u001b[1;32m    156\u001b[0m \u001b[0;34m\u001b[0m\u001b[0m\n\u001b[0;32m--> 157\u001b[0;31m         \u001b[0;32mif\u001b[0m \u001b[0m_passed_remote_test\u001b[0m\u001b[0;34m(\u001b[0m\u001b[0musername\u001b[0m\u001b[0;34m,\u001b[0m \u001b[0mfunction\u001b[0m\u001b[0;34m,\u001b[0m \u001b[0marg_keys\u001b[0m\u001b[0;34m)\u001b[0m\u001b[0;34m:\u001b[0m\u001b[0;34m\u001b[0m\u001b[0;34m\u001b[0m\u001b[0m\n\u001b[0m\u001b[1;32m    158\u001b[0m             \u001b[0mprint\u001b[0m\u001b[0;34m(\u001b[0m\u001b[0;34m\"Test was successful. Congratulations!\"\u001b[0m\u001b[0;34m)\u001b[0m\u001b[0;34m\u001b[0m\u001b[0;34m\u001b[0m\u001b[0m\n\u001b[1;32m    159\u001b[0m         \u001b[0;32melse\u001b[0m\u001b[0;34m:\u001b[0m\u001b[0;34m\u001b[0m\u001b[0;34m\u001b[0m\u001b[0m\n",
      "\u001b[0;32m~/Documents/Master/AML/week_3/automark.py\u001b[0m in \u001b[0;36m_passed_remote_test\u001b[0;34m(username, function, arg_keys)\u001b[0m\n\u001b[1;32m    102\u001b[0m \u001b[0;34m\u001b[0m\u001b[0m\n\u001b[1;32m    103\u001b[0m     \u001b[0;32mif\u001b[0m \u001b[0;34m'error'\u001b[0m \u001b[0;32min\u001b[0m \u001b[0mdata\u001b[0m\u001b[0;34m:\u001b[0m\u001b[0;34m\u001b[0m\u001b[0;34m\u001b[0m\u001b[0m\n\u001b[0;32m--> 104\u001b[0;31m         \u001b[0;32mraise\u001b[0m \u001b[0mServerError\u001b[0m\u001b[0;34m(\u001b[0m\u001b[0mdata\u001b[0m\u001b[0;34m[\u001b[0m\u001b[0;34m'error'\u001b[0m\u001b[0;34m]\u001b[0m\u001b[0;34m)\u001b[0m\u001b[0;34m\u001b[0m\u001b[0;34m\u001b[0m\u001b[0m\n\u001b[0m\u001b[1;32m    105\u001b[0m \u001b[0;34m\u001b[0m\u001b[0m\n\u001b[1;32m    106\u001b[0m     \u001b[0margs\u001b[0m \u001b[0;34m=\u001b[0m \u001b[0;34m[\u001b[0m\u001b[0;34m]\u001b[0m\u001b[0;34m\u001b[0m\u001b[0;34m\u001b[0m\u001b[0m\n",
      "\u001b[0;31mServerError\u001b[0m: your timeout expires in 23 sec."
     ]
    }
   ],
   "source": [
    "am.test_student_function(username, box_blur, ['image', 'box_size'])"
   ]
  },
  {
   "cell_type": "markdown",
   "metadata": {},
   "source": [
    "Let's blur the dog"
   ]
  },
  {
   "cell_type": "code",
   "execution_count": null,
   "metadata": {},
   "outputs": [],
   "source": [
    "blur_dog = box_blur(img, box_size=3)\n",
    "plt.imshow(blur_dog, cmap='gray')"
   ]
  },
  {
   "cell_type": "markdown",
   "metadata": {},
   "source": [
    "Now, we will get the vertical and horizontal gradients. To perform it we calculate the convolution of the image with the following kernels:\n",
    "\n",
    "$$\n",
    "K_h = \n",
    "\\begin{bmatrix}\n",
    "-1 & 0  & 1\\\\\n",
    "\\end{bmatrix} \\quad\n",
    "K_v = \n",
    "\\begin{bmatrix}\n",
    "1 \\\\\n",
    "0 \\\\\n",
    "-1\\\\\n",
    "\\end{bmatrix} \\\\\n",
    "X_h = X \\star K_h \\quad X_v = X \\star K_v\\\\\n",
    "$$\n",
    "\n",
    "And then we calculate the amplitude of the gradient:\n",
    "\n",
    "$$\n",
    "X_\\text{grad} = \\sqrt{X_h^2 + X_v^2}\n",
    "$$"
   ]
  },
  {
   "cell_type": "code",
   "execution_count": null,
   "metadata": {},
   "outputs": [],
   "source": [
    "dog_h = conv_matrix(blur_dog, np.array([[-1, 0, 1]]))\n",
    "dog_v = conv_matrix(blur_dog, np.array([[-1, 0, 1]]).T)\n",
    "dog_grad = np.sqrt(dog_h ** 2 + dog_v ** 2)\n",
    "plt.imshow(dog_grad, cmap='gray')"
   ]
  },
  {
   "cell_type": "markdown",
   "metadata": {},
   "source": [
    "This yields the edges of our blurred dog. It is not the only way to obtain edges though, there are plenty more:\n",
    "* [Canny edge detection](https://en.wikipedia.org/wiki/Canny_edge_detector)\n",
    "* [Sobel operator](https://en.wikipedia.org/wiki/Sobel_operator)\n",
    "* [Prewitt operator](https://en.wikipedia.org/wiki/Prewitt_operator)"
   ]
  },
  {
   "cell_type": "markdown",
   "metadata": {},
   "source": [
    "When you convolve an image with a kernel you obtain a map of responses. The more correlated the patch of an image is with the kernel, the higher the response. Let's take a closer look:"
   ]
  },
  {
   "cell_type": "code",
   "execution_count": null,
   "metadata": {},
   "outputs": [],
   "source": [
    "pattern = np.array([\n",
    "    [0, 1, 0],\n",
    "    [1, 1, 1],\n",
    "    [0, 1, 0]\n",
    "])\n",
    "# Create the image\n",
    "image = np.pad(pattern, [(12, 12), (10, 14)], mode='constant', constant_values=0)\n",
    "plt.imshow(image, cmap='gray')\n",
    "plt.title('original image')\n",
    "plt.show()\n",
    "\n",
    "# Add some noise\n",
    "image = 0.5 * image + 0.5 * np.random.random(image.shape)\n",
    "plt.imshow(image, cmap='gray')\n",
    "plt.title('noisy image')\n",
    "plt.show()\n",
    "\n",
    "# Let's find the cross \n",
    "response = conv_matrix(image, pattern)\n",
    "plt.imshow(response, cmap='gray')\n",
    "plt.title('local response')\n",
    "plt.show()\n",
    "\n",
    "plt.imshow(response == response.max(), cmap='gray')\n",
    "plt.title('detected position')\n",
    "plt.show()"
   ]
  },
  {
   "cell_type": "markdown",
   "metadata": {},
   "source": [
    "The brightest pixel highlights where the cross is located. We can find the area where the image is locally close to the kernel. This is especially useful for finding different patterns in images such as: eyes, legs, dogs, cats, etc.\n",
    "\n",
    "We defined kernels and applied them to images. But we can also **learn** them by minimizing loss and making the processing as effective as possible. In order to do this, we have to define the **Convolutional Layer** in the next chapter."
   ]
  },
  {
   "cell_type": "markdown",
   "metadata": {},
   "source": [
    "## 3.3 Convolutional layer\n",
    "\n",
    "A **Convolutional Layer** works with images. Each image is a 3-dimensional object  $N_{\\text{channels}} \\times H \\times W$.  \n",
    "Here index *\"channels\"* refers to the 3 colors (or 1 for black & white images), $H$ to height, and $W$ to width.  \n",
    "And therefore, the collection of images is 4-dimensional tensor of shape $N_{\\text{objects}} \\times N_{\\text{channels}} \\times H \\times W$.\n",
    "\n",
    "For example, 32 RGB images of size $224 \\times 224$ are represented as a tensor of shape $32 \\times 3 \\times 224 \\times 224$\n",
    "\n",
    "A convolutional layer receives an image as its input. Here is how it works:  \n",
    "The layer has `n_in * n_out` kernels. It is a tensor of size `(n_in, n_out, kernel_h, kernel_w)`  \n",
    "It takes a 4-dimensional tensor of size `n_objects, n_in, H, W` as its input. \n",
    "* `n_objects` is the collection of images. \n",
    "* Each of them has `n_in` channels.\n",
    "* The resolution of the images is `(H, W)`\n",
    "\n",
    "For each of the images the following operation is performed:  \n",
    "* In order to get the 1st output channel, all inputs are convolved with their corresponding kernels.  \n",
    "* Then the results are summed and written to the output channel.  \n",
    "This is our implementation:\n",
    "```python\n",
    "for i in range(n_out):\n",
    "    out_channel = 0.0\n",
    "    for j in range(n_in):\n",
    "        kernel_2d = K[i, j] # Retrieve kernel from the collection of kernels\n",
    "        input_channel = input_image[j] # Get one channel of the input image\n",
    "        out_channel += conv_matrix(input_channel, kernel_2d) # Perform convolution\n",
    "    output_image.append(out_channel) # Append the calculated channel to the output          \n",
    "```\n",
    "\n",
    "We implemented the convolutional layer for you. The implementation of `backward` is based on the idea that convolution could be represented as matrix multiplication."
   ]
  },
  {
   "cell_type": "code",
   "execution_count": null,
   "metadata": {},
   "outputs": [],
   "source": [
    "class ConvLayer(Layer):\n",
    "    \"\"\"\n",
    "    Convolutional Layer. The implementation is based on \n",
    "        the representation of the convolution as matrix multiplication\n",
    "    \"\"\"\n",
    "    \n",
    "    def __init__(self, n_in, n_out, filter_size):\n",
    "        super(ConvLayer, self).__init__()\n",
    "        self.W = np.random.normal(size=(n_out, n_in, filter_size, filter_size))\n",
    "        self.b = np.zeros(n_out)\n",
    "        \n",
    "    def forward(self, x_input):\n",
    "        n_obj, n_in, h, w = x_input.shape\n",
    "        n_out = len(self.W)\n",
    "        \n",
    "        self.output = []\n",
    "        \n",
    "        for image in x_input:\n",
    "            output_image = []\n",
    "            for i in range(n_out):\n",
    "                out_channel = 0.0\n",
    "                for j in range(n_in):\n",
    "                    out_channel += conv_matrix(image[j], self.W[i, j])\n",
    "                output_image.append(out_channel)\n",
    "            self.output.append(np.stack(output_image, 0))\n",
    "\n",
    "        self.output = np.stack(self.output, 0)\n",
    "        return self.output\n",
    "\n",
    "    \n",
    "    def backward(self, x_input, grad_output):\n",
    "\n",
    "        N, C, H, W = x_input.shape \n",
    "        F, C, HH, WW = self.W.shape\n",
    "        \n",
    "        pad = int((HH - 1) / 2)\n",
    "\n",
    "        self.grad_b = np.sum(grad_output, (0, 2, 3)) \n",
    "\n",
    "        # pad input array\n",
    "        x_padded = np.pad(x_input, ((0,0), (0,0), (pad, pad), (pad, pad)), 'constant')\n",
    "        H_padded, W_padded = x_padded.shape[2], x_padded.shape[3]\n",
    "        # naive implementation of im2col\n",
    "        x_cols = None\n",
    "        for i in range(HH, H_padded + 1):\n",
    "            for j in range(WW, W_padded+1):\n",
    "                for n in range(N):\n",
    "                    field = x_padded[n, :, i-HH:i, j-WW:j].reshape((1,-1))    \n",
    "                    if x_cols is None:\n",
    "                        x_cols = field\n",
    "                    else:\n",
    "                        x_cols = np.vstack((x_cols, field))\n",
    "                        \n",
    "        x_cols = x_cols.T\n",
    "\n",
    "        d_out = grad_output.transpose(1, 2, 3, 0) \n",
    "        dout_cols = d_out.reshape(F, -1) \n",
    "\n",
    "        dw_cols = np.dot(dout_cols, x_cols.T) \n",
    "        self.grad_W = dw_cols.reshape(F, C, HH, WW) \n",
    "\n",
    "        w_cols = self.W.reshape(F, -1) \n",
    "        dx_cols = np.dot(w_cols.T, dout_cols) \n",
    "\n",
    "        dx_padded = np.zeros((N, C, H_padded, W_padded))\n",
    "        idx = 0\n",
    "        for i in range(HH, H_padded + 1):\n",
    "            for j in range(WW, W_padded + 1):\n",
    "                for n in range(N):\n",
    "                    dx_padded[n:n+1, :, i-HH:i, j-WW:j] += dx_cols[:, idx].reshape((1, C, HH, WW))\n",
    "                    idx += 1\n",
    "            dx = dx_padded[:, :, pad:-pad, pad:-pad]\n",
    "        grad_input = dx\n",
    "        return grad_input\n",
    "    \n",
    "    def get_params(self):\n",
    "        return [self.W, self.b]\n",
    "\n",
    "    def get_params_gradients(self):\n",
    "        return [self.grad_W, self.grad_b]"
   ]
  },
  {
   "cell_type": "markdown",
   "metadata": {},
   "source": [
    "This layer transforms images with 3 channels into images with 8 channels by convolving them with kernels of size `(3, 3)`"
   ]
  },
  {
   "cell_type": "code",
   "execution_count": null,
   "metadata": {},
   "outputs": [],
   "source": [
    "conv_layer = ConvLayer(3, 8, filter_size=3)"
   ]
  },
  {
   "cell_type": "markdown",
   "metadata": {},
   "source": [
    "## 3.4 Pooling layer\n",
    "\n",
    "The pooling layer **reduces the size of an image**. \n",
    "\n",
    "In the following figure $2 \\times 2$ pooling is applied on the image which effectively reduces the size by half.  \n",
    "If you look closely, pooling operations have no effect on the depth of an image.\n",
    "![pool](./src/pool.png)\n",
    "\n",
    "There are several types of pooling operations but the most common one is **max pooling**. \n",
    "\n",
    "During a max pooling operation, the image is split into **windows** (or **filters**) and then the maximum of each window is used as the output.\n",
    "\n",
    "![maxpool](./src/maxpool.png)"
   ]
  },
  {
   "cell_type": "code",
   "execution_count": 145,
   "metadata": {},
   "outputs": [],
   "source": [
    "def maxpool_forward(x_input):\n",
    "    \"\"\"Perform max pooling operation with 2x2 window\n",
    "    # Arguments\n",
    "        x_input: np.array of size (2 * W, 2 * H)\n",
    "    # Output\n",
    "        output: np.array of size (W, H)\n",
    "    \"\"\"\n",
    "    #################\n",
    "    \n",
    "    stride=2\n",
    "    x_height, x_width= x_input.shape\n",
    "\n",
    "    output = np.zeros([x_height//2, x_width //2])\n",
    "    \n",
    "    \n",
    "    for h in range(0, x_height, stride):\n",
    "        \n",
    "        for w in range(0, x_width, stride):\n",
    "            \n",
    "            output[h//2,w//2]=np.max(x_input[ h:h+stride, w:w+stride])\n",
    "    \n",
    "    \n",
    "    \n",
    "    \n",
    "    \n",
    "    \n",
    "    ################# \n",
    "    return output"
   ]
  },
  {
   "cell_type": "markdown",
   "metadata": {},
   "source": [
    "Once again, you can use example data to test your solution:  \n",
    "**Image:**\n",
    "$$ \n",
    "\\begin{equation*}\n",
    "\\begin{bmatrix}\n",
    "1 & 1 & 2 & 4 \\\\\n",
    "5 & 6 & 7 & 8 \\\\\n",
    "3 & 2 & 1 & 0 \\\\\n",
    "1 & 2 & 3 & 4\n",
    "\\end {bmatrix}\n",
    "\\end{equation*}\n",
    "$$\n",
    "\n",
    "**Output:**\n",
    "$$ \n",
    "\\begin{equation*}\n",
    "\\begin{bmatrix}\n",
    "6 & 8 \\\\\n",
    "3 & 4\n",
    "\\end {bmatrix}\n",
    "\\end{equation*}\n",
    "$$"
   ]
  },
  {
   "cell_type": "code",
   "execution_count": 146,
   "metadata": {},
   "outputs": [
    {
     "name": "stdout",
     "output_type": "stream",
     "text": [
      "[[6. 8.]\n",
      " [3. 4.]]\n"
     ]
    }
   ],
   "source": [
    "test_image = np.array([\n",
    "    [1, 1, 2, 4],\n",
    "    [5, 6, 7, 8],\n",
    "    [3, 2, 1, 0],\n",
    "    [1, 2, 3, 4]\n",
    "])\n",
    "\n",
    "print(maxpool_forward(test_image))"
   ]
  },
  {
   "cell_type": "code",
   "execution_count": 148,
   "metadata": {},
   "outputs": [
    {
     "name": "stdout",
     "output_type": "stream",
     "text": [
      "Running local tests...\n",
      "maxpool_forward successfully passed local tests\n",
      "Running remote test...\n",
      "Test was successful. Congratulations!\n"
     ]
    }
   ],
   "source": [
    "am.test_student_function(username, maxpool_forward, ['x_input'])"
   ]
  },
  {
   "cell_type": "markdown",
   "metadata": {},
   "source": [
    "We already implemented the gradient calculation.  \n",
    "It is not overly complicated; reading the code should help you to understand the concept."
   ]
  },
  {
   "cell_type": "code",
   "execution_count": 149,
   "metadata": {},
   "outputs": [],
   "source": [
    "def maxpool_grad_input(x_input, grad_output):\n",
    "    \"\"\"Calculate partial derivative of the loss with respect to the input\n",
    "    # Arguments\n",
    "        x_input: np.array of size (2 * W, 2 * H)\n",
    "        grad_output: partial derivative of the loss \n",
    "            with respect to the output \n",
    "            np.array of size (W, H)\n",
    "    # Output\n",
    "        output: partial derivative of the loss \n",
    "            with respect to the input\n",
    "            np.array of size (2 * W, 2 * H) \n",
    "    \"\"\"\n",
    "    height, width = x_input.shape\n",
    "    # create the array of zeros of the required size\n",
    "    grad_input = np.zeros(x_input.shape)\n",
    "    \n",
    "    # let's put 1 if the element with this position \n",
    "    # is maximal in the window\n",
    "    for i in range(0, height, 2):\n",
    "        for j in range(0, width, 2):\n",
    "            window = x_input[i:i+2, j:j+2]\n",
    "            i_max, j_max = np.unravel_index(np.argmax(window), (2, 2))\n",
    "            grad_input[i + i_max, j + j_max] = 1\n",
    "            \n",
    "    # put corresponding gradient instead of 1       \n",
    "    grad_input = grad_input.ravel()\n",
    "    grad_input[grad_input == 1] = grad_output.ravel()\n",
    "    grad_input = grad_input.reshape(x_input.shape)\n",
    "    return grad_input"
   ]
  },
  {
   "cell_type": "markdown",
   "metadata": {},
   "source": [
    "Following up is the full implementation of the **MaxPool Layer**."
   ]
  },
  {
   "cell_type": "code",
   "execution_count": 150,
   "metadata": {},
   "outputs": [],
   "source": [
    "class MaxPool2x2(Layer):\n",
    "    \n",
    "    def forward(self, x_input):\n",
    "        n_obj, n_ch, h, w = x_input.shape\n",
    "        self.output = np.zeros((n_obj, n_ch, h // 2, w // 2))\n",
    "        for i in range(n_obj):\n",
    "            for j in range(n_ch):\n",
    "                self.output[i, j] = maxpool_forward(x_input[i, j])\n",
    "        return self.output \n",
    "    \n",
    "    def backward(self, x_input, grad_output):\n",
    "        n_obj, n_ch, _, _ = x_input.shape\n",
    "        grad_input = np.zeros_like(x_input)\n",
    "        for i in range(n_obj):\n",
    "            for j in range(n_ch):\n",
    "                grad_input[i, j] = maxpool_grad_input(x_input[i, j], grad_output[i, j])\n",
    "        return grad_input"
   ]
  },
  {
   "cell_type": "markdown",
   "metadata": {},
   "source": [
    "## 3.5 Flatten\n",
    "\n",
    "Convolutional neural networks are better at image processing than fully connected neural networks (dense networks). We will combine convolutional layers, which deal with 4-dimensional tensors, with dense layers, which work with matrices.  \n",
    "In order to bridge the gap between convolutional layers and dense layers we will implement the **Flatten Layer**.\n",
    "\n",
    "The Flatten layer receives a 4-dimensional tensor of size `(n_obj, n_channels, h, w)` as its input and reshapes it into a 2-dimensional tensor (matrix) of size `(n_obj, n_channels * h * w)`.  \n",
    "\n",
    "The backward pass of this layer is pretty straightforward. Remember that we don't actually change any values; we merely reshape inputs.\n",
    "\n",
    "**Please implement `flatten_forward` and `flatten_grad_input` functions using [np.reshape](https://docs.scipy.org/doc/numpy-1.13.0/reference/generated/numpy.reshape.html)**."
   ]
  },
  {
   "cell_type": "code",
   "execution_count": 153,
   "metadata": {},
   "outputs": [],
   "source": [
    "def flatten_forward(x_input):\n",
    "    \"\"\"Perform the reshaping of the tensor of size `(K, L, M, N)` \n",
    "        to the tensor of size `(K, L*M*N)`\n",
    "    # Arguments\n",
    "        x_input: np.array of size `(K, L, M, N)`\n",
    "    # Output\n",
    "        output: np.array of size `(K, L*M*N)`\n",
    "    \"\"\"\n",
    "    #################\n",
    "    K, L, M, N = x_input.shape\n",
    "    output=x_input.reshape(K, (L*M*N))\n",
    "                           \n",
    "    #################\n",
    "    return output"
   ]
  },
  {
   "cell_type": "markdown",
   "metadata": {},
   "source": [
    "You can use test data and compare the final shape. It should be `(100, 768)` for the following example.  \n",
    "Please ignore the use of [np.zeros](https://docs.scipy.org/doc/numpy-1.13.0/reference/generated/numpy.zeros.html) in this case. We are just interested in transforming shapes.  \n",
    "**Be aware:** This test will fail if you do not return an array like object!"
   ]
  },
  {
   "cell_type": "code",
   "execution_count": 154,
   "metadata": {},
   "outputs": [
    {
     "name": "stdout",
     "output_type": "stream",
     "text": [
      "(100, 768)\n"
     ]
    }
   ],
   "source": [
    "test_input = np.zeros((100, 3, 16, 16))\n",
    "\n",
    "print(flatten_forward(test_input).shape)"
   ]
  },
  {
   "cell_type": "code",
   "execution_count": 155,
   "metadata": {},
   "outputs": [
    {
     "name": "stdout",
     "output_type": "stream",
     "text": [
      "Running local tests...\n",
      "flatten_forward successfully passed local tests\n",
      "Running remote test...\n",
      "Test was successful. Congratulations!\n"
     ]
    }
   ],
   "source": [
    "am.test_student_function(username, flatten_forward, ['x_input'])"
   ]
  },
  {
   "cell_type": "code",
   "execution_count": 188,
   "metadata": {},
   "outputs": [],
   "source": [
    "def flatten_grad_input(x_input, grad_output):\n",
    "    \"\"\"Calculate partial derivative of the loss with respect to the input\n",
    "    # Arguments\n",
    "        x_input: np.array of size `(K, L, M, N)`\n",
    "        grad_output: partial derivative of the loss \n",
    "            with respect to the output\n",
    "            np.array of size `(K, L*M*N)`\n",
    "    # Output\n",
    "        output: partial derivative of the loss \n",
    "            with respect to the input\n",
    "            np.array of size `(K, L, M, N)`\n",
    "    \"\"\"\n",
    "    #################\n",
    "    grad_input= grad_output.reshape(x_input.shape)\n",
    "    #################\n",
    "    return grad_input"
   ]
  },
  {
   "cell_type": "code",
   "execution_count": 189,
   "metadata": {},
   "outputs": [
    {
     "name": "stdout",
     "output_type": "stream",
     "text": [
      "Running local tests...\n",
      "flatten_grad_input successfully passed local tests\n",
      "Running remote test...\n",
      "Test was successful. Congratulations!\n"
     ]
    }
   ],
   "source": [
    "am.test_student_function(username, flatten_grad_input, ['x_input', 'grad_output'])"
   ]
  },
  {
   "cell_type": "markdown",
   "metadata": {},
   "source": [
    "This is the, pretty self-explanatory, implemention of the **Flatten Layer**."
   ]
  },
  {
   "cell_type": "code",
   "execution_count": null,
   "metadata": {},
   "outputs": [],
   "source": [
    "class FlattenLayer(Layer):\n",
    "    \n",
    "    def forward(self, x_input):\n",
    "        self.output = flatten_forward(x_input)\n",
    "        return self.output\n",
    "    \n",
    "    def backward(self, x_input, grad_output):\n",
    "        output = flatten_grad_input(x_input, grad_output)\n",
    "        return output"
   ]
  },
  {
   "cell_type": "markdown",
   "metadata": {},
   "source": [
    "# 4. Image Experiments\n",
    "\n",
    "This chapter focuses on conducting several experiments. We will train our neural networks with **mini-batches**. Mini-batches are small portions of our dataset, all mini-batches together should form the original dataset again. With our mini-batches in place we will feed these one-by-one to our neural network."
   ]
  },
  {
   "cell_type": "code",
   "execution_count": null,
   "metadata": {},
   "outputs": [],
   "source": [
    "import sys\n",
    "\n",
    "def iterate_minibatches(x, y, batch_size=16, verbose=True):\n",
    "    assert len(x) == len(y)\n",
    "    \n",
    "    indices = np.arange(len(x))\n",
    "    np.random.shuffle(indices)\n",
    "    \n",
    "    for i, start_idx in enumerate(range(0, len(x) - batch_size + 1, batch_size)):\n",
    "        if verbose:\n",
    "            print('\\rBatch: {}/{}'.format(i + 1, len(x) // batch_size), end='')\n",
    "            sys.stdout.flush()\n",
    "        \n",
    "        excerpt = indices[start_idx:start_idx + batch_size]\n",
    "        yield x[excerpt], y[excerpt]"
   ]
  },
  {
   "cell_type": "markdown",
   "metadata": {},
   "source": [
    "Let's import the data. Please [download](http://yann.lecun.com/exdb/mnist/) it first.\n",
    "\n",
    "If you get an error with loading the data, chances are you'll need to unpack the downloaded files."
   ]
  },
  {
   "cell_type": "code",
   "execution_count": null,
   "metadata": {},
   "outputs": [],
   "source": [
    "from dataset_utils import load_mnist"
   ]
  },
  {
   "cell_type": "code",
   "execution_count": null,
   "metadata": {},
   "outputs": [],
   "source": [
    "train = list(load_mnist(dataset='training', path='.'))\n",
    "train\n",
    "train_images = np.array([im[1] for im in train])\n",
    "train_targets = np.array([im[0] for im in train])\n",
    "# We will train a 0 vs. 1 classifier\n",
    "x_train = train_images[train_targets < 2][:1000]\n",
    "y_train = train_targets[train_targets < 2][:1000]\n",
    "\n",
    "y_train = y_train \n",
    "y_train = y_train.reshape((-1, 1))"
   ]
  },
  {
   "cell_type": "markdown",
   "metadata": {},
   "source": [
    "You just loaded the MNIST dataset. This dataset consists of gray-scale (so a single channel) images of size `28x28`. These images are represented by the RGB color model. This color model representes a color by 3 integers that range from 0 to 255, or in the case of gray-scale images this is a single integer. This means that each picture in the MNIST dataset is represented by 784 pixels with a value ranging from 0 to 255. This is how a single image looks like:"
   ]
  },
  {
   "cell_type": "code",
   "execution_count": null,
   "metadata": {},
   "outputs": [],
   "source": [
    "plt.imshow(x_train[0].reshape(28, 28), cmap='gray_r')"
   ]
  },
  {
   "cell_type": "markdown",
   "metadata": {},
   "source": [
    "To make divergence to an optimum easier, we will normalize the images to have values between 0 and 1. Then, by reshaping, we will add the dimensions for the channel which, for simplicity, was removed by the creators of this dataset. As you can see, this doesn't change anything in how the image looks like."
   ]
  },
  {
   "cell_type": "code",
   "execution_count": null,
   "metadata": {},
   "outputs": [],
   "source": [
    "x_train = x_train.astype('float32') / 255.0\n",
    "x_train = x_train.reshape((-1, 1, 28, 28))\n",
    "plt.imshow(x_train[0].reshape(28, 28), cmap='gray_r')"
   ]
  },
  {
   "cell_type": "markdown",
   "metadata": {},
   "source": [
    "Now we will train a simple convolutional neural network:"
   ]
  },
  {
   "cell_type": "code",
   "execution_count": null,
   "metadata": {},
   "outputs": [],
   "source": [
    "def get_cnn():\n",
    "    nn = SequentialNN(\n",
    "        ConvLayer(1, 2, filter_size=3), # The output is of size [N_obj 2 28 28]\n",
    "        ReLU(), # The output is of size [N_obj 2 28 28]\n",
    "        MaxPool2x2(), # The output is of size [N_obj 2 14 14]\n",
    "        ConvLayer(2, 4, filter_size=3), # The output is of size [N_obj 4 14 14]\n",
    "        ReLU(), # The output is of size [N_obj 4 14 14]\n",
    "        MaxPool2x2(), # The output is of size [N_obj 4 7 7]\n",
    "        FlattenLayer(),  # The output is of size [N_obj 196]\n",
    "        Dense(4 * 7 * 7, 8),\n",
    "        ReLU(),\n",
    "        Dense(8, 1),\n",
    "        Sigmoid()\n",
    "    )\n",
    "    return nn"
   ]
  },
  {
   "cell_type": "code",
   "execution_count": null,
   "metadata": {},
   "outputs": [],
   "source": [
    "nn = get_cnn()\n",
    "loss = NLL()\n",
    "optimizer = SGD(nn, weight_decay=0.0)"
   ]
  },
  {
   "cell_type": "code",
   "execution_count": null,
   "metadata": {},
   "outputs": [],
   "source": [
    "# It will train for about 5 minutes\n",
    "num_epochs = 5 \n",
    "batch_size = 32\n",
    "# We will store the results here\n",
    "history = {'loss': [], 'accuracy': []}\n",
    "\n",
    "# `num_epochs` represents the number of iterations\n",
    "for epoch in range(num_epochs):\n",
    "    print('Epoch {}/{}'.format(epoch + 1, num_epochs))\n",
    "    \n",
    "    # We perform iteration a one-by-one iteration of the mini-batches\n",
    "    for x_batch, y_batch in iterate_minibatches(x_train, y_train, batch_size):\n",
    "        # Predict the target value\n",
    "        y_pred = nn.forward(x_batch)\n",
    "        # Compute the gradient of the loss\n",
    "        loss_grad = loss.backward(y_pred, y_batch)\n",
    "        # Perform backwards pass\n",
    "        nn.backward(x_batch, loss_grad)\n",
    "        # Update the params\n",
    "        optimizer.update_params()\n",
    "        \n",
    "        # Save loss and accuracy values\n",
    "        history['loss'].append(loss.forward(y_pred, y_batch))\n",
    "        prediction_is_correct = (y_pred > 0.5) == (y_batch > 0.5)\n",
    "        history['accuracy'].append(np.mean(prediction_is_correct))\n",
    "        \n",
    "    print()"
   ]
  },
  {
   "cell_type": "code",
   "execution_count": null,
   "metadata": {},
   "outputs": [],
   "source": [
    "# Let's plot the results to get a better insight\n",
    "plt.figure(figsize=(8, 5))\n",
    "\n",
    "ax_1 = plt.subplot()\n",
    "ax_1.plot(history['loss'], c='g', lw=2, label='train loss')\n",
    "ax_1.set_ylabel('loss', fontsize=16)\n",
    "ax_1.set_xlabel('#batches', fontsize=16)\n",
    "\n",
    "ax_2 = plt.twinx(ax_1)\n",
    "ax_2.plot(history['accuracy'], lw=3, label='train accuracy')\n",
    "ax_2.set_ylabel('accuracy', fontsize=16)\n",
    "plt.show()"
   ]
  },
  {
   "cell_type": "markdown",
   "metadata": {},
   "source": [
    "**Things you could try:**  \n",
    "Train the model with a different `batch_size`:\n",
    "* What would happen with `batch_size=1`?\n",
    "* What would happen with `batch_size=1000`?\n",
    "* Does the speed of the computation depend on this parameter? If so, why?\n",
    "\n",
    "Train the model with a different number of `num_epochs`:\n",
    "* What would happen with `num_epochs=1`?\n",
    "* What would happen with `num_epochs=1000`?\n",
    "* How does it affect computation time, resource strain, and accuracy?"
   ]
  },
  {
   "cell_type": "markdown",
   "metadata": {},
   "source": [
    "Let's visualize the activations of the intermediate layers:"
   ]
  },
  {
   "cell_type": "code",
   "execution_count": null,
   "metadata": {},
   "outputs": [],
   "source": [
    "viz_images = x_batch[:2]\n",
    "_ = nn.forward(viz_images)\n",
    "\n",
    "activations = {\n",
    "    'conv_1': nn.layers[0].output,\n",
    "    'relu_1': nn.layers[1].output,\n",
    "    'pool_1': nn.layers[2].output,\n",
    "    'conv_2': nn.layers[3].output,\n",
    "    'relu_2': nn.layers[4].output,\n",
    "    'pool_2': nn.layers[5].output,\n",
    "}"
   ]
  },
  {
   "cell_type": "markdown",
   "metadata": {},
   "source": [
    "### Input Images"
   ]
  },
  {
   "cell_type": "code",
   "execution_count": null,
   "metadata": {},
   "outputs": [],
   "source": [
    "# Input\n",
    "f, (ax1, ax2) = plt.subplots(2, 1, figsize=(4, 8))\n",
    "\n",
    "ax1.imshow(viz_images[0, 0], cmap=plt.cm.gray_r)\n",
    "ax1.set_xticks([])\n",
    "ax1.set_yticks([])\n",
    "\n",
    "ax2.imshow(viz_images[1, 0], cmap=plt.cm.gray_r)\n",
    "ax2.set_xticks([])\n",
    "ax2.set_yticks([])\n",
    "\n",
    "plt.show()"
   ]
  },
  {
   "cell_type": "markdown",
   "metadata": {},
   "source": [
    "### Activations of Conv 1"
   ]
  },
  {
   "cell_type": "code",
   "execution_count": null,
   "metadata": {},
   "outputs": [],
   "source": [
    "# Conv 1\n",
    "f, axes = plt.subplots(2, 2, figsize=(8, 8))\n",
    "\n",
    "for i in range(2):\n",
    "    for j in range(2):\n",
    "        ax = axes[i, j]\n",
    "        ax.imshow(activations['conv_1'][i, j], cmap=plt.cm.gray_r)\n",
    "        ax.set_xticks([])\n",
    "        ax.set_yticks([])\n",
    "        ax.set_title('Channel {}'.format(j + 1))\n",
    "\n",
    "plt.show()"
   ]
  },
  {
   "cell_type": "markdown",
   "metadata": {},
   "source": [
    "### Activations of ReLU 1"
   ]
  },
  {
   "cell_type": "code",
   "execution_count": null,
   "metadata": {},
   "outputs": [],
   "source": [
    "# ReLU 1\n",
    "f, axes = plt.subplots(2, 2, figsize=(8, 8))\n",
    "\n",
    "for i in range(2):\n",
    "    for j in range(2):\n",
    "        ax = axes[i, j]\n",
    "        ax.imshow(activations['relu_1'][i, j], cmap=plt.cm.gray_r)\n",
    "        ax.set_xticks([])\n",
    "        ax.set_yticks([])\n",
    "        ax.set_title('Channel {}'.format(j + 1))\n",
    "\n",
    "plt.show()"
   ]
  },
  {
   "cell_type": "markdown",
   "metadata": {},
   "source": [
    "### Activations of MaxPooling 1"
   ]
  },
  {
   "cell_type": "code",
   "execution_count": null,
   "metadata": {},
   "outputs": [],
   "source": [
    "# Max Pooling 1\n",
    "f, axes = plt.subplots(2, 2, figsize=(8, 8))\n",
    "\n",
    "for i in range(2):\n",
    "    for j in range(2):\n",
    "        ax = axes[i, j]\n",
    "        ax.imshow(activations['pool_1'][i, j], cmap=plt.cm.gray_r)\n",
    "        ax.set_xticks([])\n",
    "        ax.set_yticks([])\n",
    "        ax.set_title('Channel {}'.format(j + 1))\n",
    "\n",
    "plt.show()"
   ]
  },
  {
   "cell_type": "markdown",
   "metadata": {},
   "source": [
    "### Activations of Conv 2"
   ]
  },
  {
   "cell_type": "code",
   "execution_count": null,
   "metadata": {},
   "outputs": [],
   "source": [
    "# Conv 2\n",
    "f, axes = plt.subplots(2, 4, figsize=(16, 8))\n",
    "\n",
    "for i in range(2):\n",
    "    for j in range(4):\n",
    "        ax = axes[i, j]\n",
    "        ax.imshow(activations['conv_2'][i, j], cmap=plt.cm.gray_r)\n",
    "        ax.set_xticks([])\n",
    "        ax.set_yticks([])\n",
    "        ax.set_title('Channel {}'.format(j + 1))\n",
    "\n",
    "plt.show()"
   ]
  },
  {
   "cell_type": "markdown",
   "metadata": {},
   "source": [
    "### Activations of ReLU 2"
   ]
  },
  {
   "cell_type": "code",
   "execution_count": null,
   "metadata": {},
   "outputs": [],
   "source": [
    "# ReLU 2\n",
    "f, axes = plt.subplots(2, 4, figsize=(16, 8))\n",
    "\n",
    "for i in range(2):\n",
    "    for j in range(4):\n",
    "        ax = axes[i, j]\n",
    "        ax.imshow(activations['relu_2'][i, j], cmap=plt.cm.gray_r)\n",
    "        ax.set_xticks([])\n",
    "        ax.set_yticks([])\n",
    "        ax.set_title('Channel {}'.format(j + 1))\n",
    "\n",
    "plt.show()"
   ]
  },
  {
   "cell_type": "markdown",
   "metadata": {},
   "source": [
    "### Activations of MaxPooling 2"
   ]
  },
  {
   "cell_type": "code",
   "execution_count": null,
   "metadata": {},
   "outputs": [],
   "source": [
    "# Max Pooling 2\n",
    "f, axes = plt.subplots(2, 4, figsize=(16, 8))\n",
    "\n",
    "for i in range(2):\n",
    "    for j in range(4):\n",
    "        ax = axes[i, j]\n",
    "        ax.imshow(activations['pool_2'][i, j], cmap=plt.cm.gray_r)\n",
    "        ax.set_xticks([])\n",
    "        ax.set_yticks([])\n",
    "        ax.set_title('Channel {}'.format(j + 1))\n",
    "\n",
    "plt.show()"
   ]
  },
  {
   "cell_type": "markdown",
   "metadata": {},
   "source": [
    "As we go deeper and deeper, images become less locally-correlated (the dependance between two neighbours decreases) and more semantically loaded.  \n",
    "Each convoluted pixel stores more and more useful information about the object.  \n",
    "In the end, this will be anaylzed using several **Dense Layers**.\n",
    "\n",
    "**Things you could try:**\n",
    "* Change the architecture of the neural network\n",
    "* Vary the number of kernels\n",
    "* Vary the size of the kernels"
   ]
  },
  {
   "cell_type": "code",
   "execution_count": null,
   "metadata": {},
   "outputs": [],
   "source": []
  }
 ],
 "metadata": {
  "kernelspec": {
   "display_name": "Python 3",
   "language": "python",
   "name": "python3"
  },
  "language_info": {
   "codemirror_mode": {
    "name": "ipython",
    "version": 3
   },
   "file_extension": ".py",
   "mimetype": "text/x-python",
   "name": "python",
   "nbconvert_exporter": "python",
   "pygments_lexer": "ipython3",
   "version": "3.8.8"
  }
 },
 "nbformat": 4,
 "nbformat_minor": 2
}
